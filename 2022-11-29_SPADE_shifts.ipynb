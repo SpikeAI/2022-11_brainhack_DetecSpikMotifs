{
 "cells": [
  {
   "cell_type": "code",
   "execution_count": 1,
   "id": "1e6ede3a-e8c0-4753-8bde-c5ac49d2d276",
   "metadata": {},
   "outputs": [
    {
     "name": "stdout",
     "output_type": "stream",
     "text": [
      "Requirement already satisfied: pip in /usr/local/lib/python3.10/site-packages (from -r requirements.txt (line 1)) (22.3.1)\n",
      "Requirement already satisfied: numpy in /usr/local/lib/python3.10/site-packages (from -r requirements.txt (line 2)) (1.23.5)\n",
      "Requirement already satisfied: matplotlib in /usr/local/lib/python3.10/site-packages (from -r requirements.txt (line 3)) (3.6.2)\n",
      "Requirement already satisfied: seaborn in /usr/local/lib/python3.10/site-packages (from -r requirements.txt (line 4)) (0.12.1)\n",
      "Requirement already satisfied: pandas in /usr/local/lib/python3.10/site-packages (from -r requirements.txt (line 5)) (1.5.2)\n",
      "Requirement already satisfied: imageio in /usr/local/lib/python3.10/site-packages (from -r requirements.txt (line 6)) (2.22.4)\n",
      "Requirement already satisfied: notebook in /usr/local/lib/python3.10/site-packages (from -r requirements.txt (line 7)) (6.5.2)\n",
      "Requirement already satisfied: scikit-learn in /usr/local/lib/python3.10/site-packages (from -r requirements.txt (line 8)) (1.1.3)\n",
      "Requirement already satisfied: quantities in /usr/local/lib/python3.10/site-packages (from -r requirements.txt (line 11)) (0.13.0)\n",
      "Requirement already satisfied: neo in /usr/local/lib/python3.10/site-packages (from -r requirements.txt (line 12)) (0.11.1)\n",
      "Requirement already satisfied: pyfim in /usr/local/lib/python3.10/site-packages (from -r requirements.txt (line 13)) (6.28)\n",
      "Requirement already satisfied: elephant in /usr/local/lib/python3.10/site-packages (from -r requirements.txt (line 14)) (0.11.2)\n",
      "Requirement already satisfied: viziphant in /usr/local/lib/python3.10/site-packages (from -r requirements.txt (line 15)) (0.2.0)\n",
      "Requirement already satisfied: cycler>=0.10 in /usr/local/lib/python3.10/site-packages (from matplotlib->-r requirements.txt (line 3)) (0.11.0)\n",
      "Requirement already satisfied: pillow>=6.2.0 in /usr/local/lib/python3.10/site-packages (from matplotlib->-r requirements.txt (line 3)) (9.2.0)\n",
      "Requirement already satisfied: pyparsing>=2.2.1 in /usr/local/Cellar/sip/6.7.4/libexec/lib/python3.10/site-packages (from matplotlib->-r requirements.txt (line 3)) (3.0.9)\n",
      "Requirement already satisfied: packaging>=20.0 in /usr/local/Cellar/sip/6.7.4/libexec/lib/python3.10/site-packages (from matplotlib->-r requirements.txt (line 3)) (21.3)\n",
      "Requirement already satisfied: python-dateutil>=2.7 in /usr/local/lib/python3.10/site-packages (from matplotlib->-r requirements.txt (line 3)) (2.8.2)\n",
      "Requirement already satisfied: contourpy>=1.0.1 in /usr/local/lib/python3.10/site-packages (from matplotlib->-r requirements.txt (line 3)) (1.0.5)\n",
      "Requirement already satisfied: fonttools>=4.22.0 in /usr/local/lib/python3.10/site-packages (from matplotlib->-r requirements.txt (line 3)) (4.37.1)\n",
      "Requirement already satisfied: kiwisolver>=1.0.1 in /usr/local/lib/python3.10/site-packages (from matplotlib->-r requirements.txt (line 3)) (1.4.4)\n",
      "Requirement already satisfied: pytz>=2020.1 in /usr/local/lib/python3.10/site-packages (from pandas->-r requirements.txt (line 5)) (2022.2.1)\n",
      "Requirement already satisfied: pyzmq>=17 in /usr/local/lib/python3.10/site-packages (from notebook->-r requirements.txt (line 7)) (23.2.1)\n",
      "Requirement already satisfied: prometheus-client in /usr/local/lib/python3.10/site-packages (from notebook->-r requirements.txt (line 7)) (0.14.1)\n",
      "Requirement already satisfied: argon2-cffi in /usr/local/lib/python3.10/site-packages (from notebook->-r requirements.txt (line 7)) (21.3.0)\n",
      "Requirement already satisfied: jupyter-client>=5.3.4 in /usr/local/lib/python3.10/site-packages (from notebook->-r requirements.txt (line 7)) (7.3.5)\n",
      "Requirement already satisfied: jupyter-core>=4.6.1 in /usr/local/lib/python3.10/site-packages (from notebook->-r requirements.txt (line 7)) (4.11.1)\n",
      "Requirement already satisfied: ipython-genutils in /usr/local/lib/python3.10/site-packages (from notebook->-r requirements.txt (line 7)) (0.2.0)\n",
      "Requirement already satisfied: tornado>=6.1 in /usr/local/lib/python3.10/site-packages (from notebook->-r requirements.txt (line 7)) (6.2)\n",
      "Requirement already satisfied: jinja2 in /usr/local/lib/python3.10/site-packages (from notebook->-r requirements.txt (line 7)) (3.1.2)\n",
      "Requirement already satisfied: ipykernel in /usr/local/lib/python3.10/site-packages (from notebook->-r requirements.txt (line 7)) (6.15.2)\n",
      "Requirement already satisfied: nest-asyncio>=1.5 in /usr/local/lib/python3.10/site-packages (from notebook->-r requirements.txt (line 7)) (1.5.5)\n",
      "Requirement already satisfied: terminado>=0.8.3 in /usr/local/lib/python3.10/site-packages (from notebook->-r requirements.txt (line 7)) (0.15.0)\n",
      "Requirement already satisfied: nbformat in /usr/local/lib/python3.10/site-packages (from notebook->-r requirements.txt (line 7)) (5.4.0)\n",
      "Requirement already satisfied: nbclassic>=0.4.7 in /usr/local/lib/python3.10/site-packages (from notebook->-r requirements.txt (line 7)) (0.4.8)\n",
      "Requirement already satisfied: nbconvert>=5 in /usr/local/lib/python3.10/site-packages (from notebook->-r requirements.txt (line 7)) (7.0.0)\n",
      "Requirement already satisfied: Send2Trash>=1.8.0 in /usr/local/lib/python3.10/site-packages (from notebook->-r requirements.txt (line 7)) (1.8.0)\n",
      "Requirement already satisfied: traitlets>=4.2.1 in /usr/local/lib/python3.10/site-packages (from notebook->-r requirements.txt (line 7)) (5.3.0)\n",
      "Requirement already satisfied: scipy>=1.3.2 in /usr/local/lib/python3.10/site-packages (from scikit-learn->-r requirements.txt (line 8)) (1.9.3)\n",
      "Requirement already satisfied: joblib>=1.0.0 in /usr/local/lib/python3.10/site-packages (from scikit-learn->-r requirements.txt (line 8)) (1.2.0)\n",
      "Requirement already satisfied: threadpoolctl>=2.0.0 in /usr/local/lib/python3.10/site-packages (from scikit-learn->-r requirements.txt (line 8)) (3.1.0)\n",
      "Requirement already satisfied: six>=1.10.0 in /usr/local/lib/python3.10/site-packages (from elephant->-r requirements.txt (line 14)) (1.16.0)\n",
      "Requirement already satisfied: tqdm in /usr/local/lib/python3.10/site-packages (from elephant->-r requirements.txt (line 14)) (4.64.1)\n",
      "Requirement already satisfied: entrypoints in /usr/local/lib/python3.10/site-packages (from jupyter-client>=5.3.4->notebook->-r requirements.txt (line 7)) (0.4)\n",
      "Requirement already satisfied: jupyter-server>=1.8 in /usr/local/lib/python3.10/site-packages (from nbclassic>=0.4.7->notebook->-r requirements.txt (line 7)) (1.18.1)\n",
      "Requirement already satisfied: notebook-shim>=0.1.0 in /usr/local/lib/python3.10/site-packages (from nbclassic>=0.4.7->notebook->-r requirements.txt (line 7)) (0.1.0)\n",
      "Requirement already satisfied: defusedxml in /usr/local/lib/python3.10/site-packages (from nbconvert>=5->notebook->-r requirements.txt (line 7)) (0.7.1)\n",
      "Requirement already satisfied: lxml in /usr/local/lib/python3.10/site-packages (from nbconvert>=5->notebook->-r requirements.txt (line 7)) (4.9.1)\n",
      "Requirement already satisfied: markupsafe>=2.0 in /usr/local/lib/python3.10/site-packages (from nbconvert>=5->notebook->-r requirements.txt (line 7)) (2.1.1)\n",
      "Requirement already satisfied: mistune<3,>=2.0.3 in /usr/local/lib/python3.10/site-packages (from nbconvert>=5->notebook->-r requirements.txt (line 7)) (2.0.4)\n",
      "Requirement already satisfied: nbclient>=0.5.0 in /usr/local/lib/python3.10/site-packages (from nbconvert>=5->notebook->-r requirements.txt (line 7)) (0.5.13)\n",
      "Requirement already satisfied: tinycss2 in /usr/local/lib/python3.10/site-packages (from nbconvert>=5->notebook->-r requirements.txt (line 7)) (1.1.1)\n",
      "Requirement already satisfied: pandocfilters>=1.4.1 in /usr/local/lib/python3.10/site-packages (from nbconvert>=5->notebook->-r requirements.txt (line 7)) (1.5.0)\n",
      "Requirement already satisfied: jupyterlab-pygments in /usr/local/lib/python3.10/site-packages (from nbconvert>=5->notebook->-r requirements.txt (line 7)) (0.2.2)\n",
      "Requirement already satisfied: pygments>=2.4.1 in /usr/local/lib/python3.10/site-packages (from nbconvert>=5->notebook->-r requirements.txt (line 7)) (2.13.0)\n",
      "Requirement already satisfied: bleach in /usr/local/lib/python3.10/site-packages (from nbconvert>=5->notebook->-r requirements.txt (line 7)) (5.0.1)\n",
      "Requirement already satisfied: beautifulsoup4 in /usr/local/lib/python3.10/site-packages (from nbconvert>=5->notebook->-r requirements.txt (line 7)) (4.11.1)\n",
      "Requirement already satisfied: fastjsonschema in /usr/local/lib/python3.10/site-packages (from nbformat->notebook->-r requirements.txt (line 7)) (2.16.1)\n",
      "Requirement already satisfied: jsonschema>=2.6 in /usr/local/lib/python3.10/site-packages (from nbformat->notebook->-r requirements.txt (line 7)) (4.15.0)\n",
      "Requirement already satisfied: ptyprocess in /usr/local/lib/python3.10/site-packages (from terminado>=0.8.3->notebook->-r requirements.txt (line 7)) (0.7.0)\n",
      "Requirement already satisfied: argon2-cffi-bindings in /usr/local/lib/python3.10/site-packages (from argon2-cffi->notebook->-r requirements.txt (line 7)) (21.2.0)\n",
      "Requirement already satisfied: appnope in /usr/local/lib/python3.10/site-packages (from ipykernel->notebook->-r requirements.txt (line 7)) (0.1.3)\n",
      "Requirement already satisfied: ipython>=7.23.1 in /usr/local/lib/python3.10/site-packages (from ipykernel->notebook->-r requirements.txt (line 7)) (8.5.0)\n",
      "Requirement already satisfied: matplotlib-inline>=0.1 in /usr/local/lib/python3.10/site-packages (from ipykernel->notebook->-r requirements.txt (line 7)) (0.1.6)\n",
      "Requirement already satisfied: psutil in /usr/local/lib/python3.10/site-packages (from ipykernel->notebook->-r requirements.txt (line 7)) (5.9.2)\n",
      "Requirement already satisfied: debugpy>=1.0 in /usr/local/lib/python3.10/site-packages (from ipykernel->notebook->-r requirements.txt (line 7)) (1.6.3)\n",
      "Requirement already satisfied: backcall in /usr/local/lib/python3.10/site-packages (from ipython>=7.23.1->ipykernel->notebook->-r requirements.txt (line 7)) (0.2.0)\n",
      "Requirement already satisfied: decorator in /usr/local/lib/python3.10/site-packages (from ipython>=7.23.1->ipykernel->notebook->-r requirements.txt (line 7)) (4.4.2)\n",
      "Requirement already satisfied: pickleshare in /usr/local/lib/python3.10/site-packages (from ipython>=7.23.1->ipykernel->notebook->-r requirements.txt (line 7)) (0.7.5)\n",
      "Requirement already satisfied: pexpect>4.3 in /usr/local/lib/python3.10/site-packages (from ipython>=7.23.1->ipykernel->notebook->-r requirements.txt (line 7)) (4.8.0)\n",
      "Requirement already satisfied: stack-data in /usr/local/lib/python3.10/site-packages (from ipython>=7.23.1->ipykernel->notebook->-r requirements.txt (line 7)) (0.5.0)\n",
      "Requirement already satisfied: jedi>=0.16 in /usr/local/lib/python3.10/site-packages (from ipython>=7.23.1->ipykernel->notebook->-r requirements.txt (line 7)) (0.18.1)\n",
      "Requirement already satisfied: prompt-toolkit<3.1.0,>3.0.1 in /usr/local/lib/python3.10/site-packages (from ipython>=7.23.1->ipykernel->notebook->-r requirements.txt (line 7)) (3.0.31)\n",
      "Requirement already satisfied: pyrsistent!=0.17.0,!=0.17.1,!=0.17.2,>=0.14.0 in /usr/local/lib/python3.10/site-packages (from jsonschema>=2.6->nbformat->notebook->-r requirements.txt (line 7)) (0.18.1)\n",
      "Requirement already satisfied: attrs>=17.4.0 in /usr/local/lib/python3.10/site-packages (from jsonschema>=2.6->nbformat->notebook->-r requirements.txt (line 7)) (22.1.0)\n",
      "Requirement already satisfied: websocket-client in /usr/local/lib/python3.10/site-packages (from jupyter-server>=1.8->nbclassic>=0.4.7->notebook->-r requirements.txt (line 7)) (1.4.1)\n",
      "Requirement already satisfied: anyio<4,>=3.1.0 in /usr/local/lib/python3.10/site-packages (from jupyter-server>=1.8->nbclassic>=0.4.7->notebook->-r requirements.txt (line 7)) (3.6.1)\n",
      "Requirement already satisfied: cffi>=1.0.1 in /usr/local/lib/python3.10/site-packages (from argon2-cffi-bindings->argon2-cffi->notebook->-r requirements.txt (line 7)) (1.15.1)\n",
      "Requirement already satisfied: soupsieve>1.2 in /usr/local/lib/python3.10/site-packages (from beautifulsoup4->nbconvert>=5->notebook->-r requirements.txt (line 7)) (2.3.2.post1)\n",
      "Requirement already satisfied: webencodings in /usr/local/lib/python3.10/site-packages (from bleach->nbconvert>=5->notebook->-r requirements.txt (line 7)) (0.5.1)\n",
      "Requirement already satisfied: idna>=2.8 in /usr/local/lib/python3.10/site-packages (from anyio<4,>=3.1.0->jupyter-server>=1.8->nbclassic>=0.4.7->notebook->-r requirements.txt (line 7)) (3.3)\n",
      "Requirement already satisfied: sniffio>=1.1 in /usr/local/lib/python3.10/site-packages (from anyio<4,>=3.1.0->jupyter-server>=1.8->nbclassic>=0.4.7->notebook->-r requirements.txt (line 7)) (1.3.0)\n",
      "Requirement already satisfied: pycparser in /usr/local/lib/python3.10/site-packages (from cffi>=1.0.1->argon2-cffi-bindings->argon2-cffi->notebook->-r requirements.txt (line 7)) (2.21)\n",
      "Requirement already satisfied: parso<0.9.0,>=0.8.0 in /usr/local/lib/python3.10/site-packages (from jedi>=0.16->ipython>=7.23.1->ipykernel->notebook->-r requirements.txt (line 7)) (0.8.3)\n",
      "Requirement already satisfied: wcwidth in /usr/local/lib/python3.10/site-packages (from prompt-toolkit<3.1.0,>3.0.1->ipython>=7.23.1->ipykernel->notebook->-r requirements.txt (line 7)) (0.2.5)\n",
      "Requirement already satisfied: asttokens in /usr/local/lib/python3.10/site-packages (from stack-data->ipython>=7.23.1->ipykernel->notebook->-r requirements.txt (line 7)) (2.0.8)\n",
      "Requirement already satisfied: pure-eval in /usr/local/lib/python3.10/site-packages (from stack-data->ipython>=7.23.1->ipykernel->notebook->-r requirements.txt (line 7)) (0.2.2)\n",
      "Requirement already satisfied: executing in /usr/local/lib/python3.10/site-packages (from stack-data->ipython>=7.23.1->ipykernel->notebook->-r requirements.txt (line 7)) (1.0.0)\n",
      "Note: you may need to restart the kernel to use updated packages.\n"
     ]
    }
   ],
   "source": [
    "# to install all dependencies use, uncomment the following line and restart the kernel\n",
    "# %pip install -U -r requirements.txt"
   ]
  },
  {
   "cell_type": "markdown",
   "id": "4e607479",
   "metadata": {},
   "source": [
    "#  Spike PAtterns DEtection using SPADE\n"
   ]
  },
  {
   "cell_type": "code",
   "execution_count": 2,
   "id": "1c0163f5-b685-412d-b5c6-8ff1670e9998",
   "metadata": {},
   "outputs": [],
   "source": [
    "import numpy as np\n",
    "import quantities as pq\n",
    "import neo\n",
    "import elephant\n",
    "import viziphant\n",
    "np.random.seed(4542)"
   ]
  },
  {
   "cell_type": "markdown",
   "id": "5488bfdb",
   "metadata": {},
   "source": [
    "## introducing heterogeneous delays\n",
    "\n",
    "the function developed in the scan"
   ]
  },
  {
   "cell_type": "code",
   "execution_count": 3,
   "id": "717a2fc9",
   "metadata": {},
   "outputs": [],
   "source": [
    "\n",
    "A_sync = 0.02\n",
    "shift = 0.\n",
    "\n",
    "def generate_and_test(A_sync=A_sync, shift=shift):\n",
    "    A = [0]+[1.-A_sync]+[0]*8+[A_sync]\n",
    "    spiketrains = elephant.spike_train_generation.compound_poisson_process(\n",
    "                             rate=5*pq.Hz, A=A, shift=shift*pq.ms, t_stop=10*pq.s)\n",
    "    for i in range(90):\n",
    "        spiketrains.append(elephant.spike_train_generation.homogeneous_poisson_process(\n",
    "            rate=5*pq.Hz, t_stop=10*pq.s))\n",
    "    patterns = elephant.spade.spade(\n",
    "                                spiketrains=spiketrains, binsize=1*pq.ms, winlen=1, min_spikes=3,\n",
    "                                n_surr=100,dither=5*pq.ms,\n",
    "                                psr_param=[0,0,0],\n",
    "                                output_format='patterns')['patterns']\n",
    "    return patterns"
   ]
  },
  {
   "cell_type": "markdown",
   "metadata": {},
   "source": [
    "\n",
    "* changing the synchrony probability to check when SPADE will begin to fail:\n"
   ]
  },
  {
   "cell_type": "code",
   "execution_count": 4,
   "id": "8bc9a171",
   "metadata": {},
   "outputs": [
    {
     "name": "stderr",
     "output_type": "stream",
     "text": [
      "/usr/local/lib/python3.10/site-packages/elephant/spade.py:679: UserWarning: Optimized C implementation of FCA (fim.so/fim.pyd) not found in elephant/spade_src folder, or not compatible with this Python version. You are using the pure Python implementation of fast fca.\n",
      "  warnings.warn(\n"
     ]
    },
    {
     "name": "stdout",
     "output_type": "stream",
     "text": [
      "Time for data mining: 37.92006206512451\n"
     ]
    }
   ],
   "source": [
    "for A_sync_ in np.logspace(-2, -.5, 10):\n",
    "    patterns = generate_and_test(A_sync=A_sync_, shift=shift)\n",
    "    print(patterns)"
   ]
  }
 ],
 "metadata": {
  "kernelspec": {
   "display_name": "Python 3.10.8 64-bit",
   "language": "python",
   "name": "python3"
  },
  "language_info": {
   "codemirror_mode": {
    "name": "ipython",
    "version": 3
   },
   "file_extension": ".py",
   "mimetype": "text/x-python",
   "name": "python",
   "nbconvert_exporter": "python",
   "pygments_lexer": "ipython3",
   "version": "3.10.8"
  },
  "nbdime-conflicts": {
   "local_diff": [
    {
     "diff": [
      {
       "diff": [
        {
         "key": 0,
         "op": "addrange",
         "valuelist": [
          "Python 3.10.8 64-bit"
         ]
        },
        {
         "key": 0,
         "length": 1,
         "op": "removerange"
        }
       ],
       "key": "display_name",
       "op": "patch"
      }
     ],
     "key": "kernelspec",
     "op": "patch"
    },
    {
     "diff": [
      {
       "diff": [
        {
         "diff": [
          {
           "key": 5,
           "op": "addrange",
           "valuelist": "8"
          },
          {
           "key": 5,
           "length": 1,
           "op": "removerange"
          }
         ],
         "key": 0,
         "op": "patch"
        }
       ],
       "key": "version",
       "op": "patch"
      }
     ],
     "key": "language_info",
     "op": "patch"
    },
    {
     "diff": [
      {
       "diff": [
        {
         "diff": [
          {
           "key": 0,
           "op": "addrange",
           "valuelist": [
            "949777d72b0d2535278d3dc13498b2535136f6dfe0678499012e853ee9abcab1"
           ]
          },
          {
           "key": 0,
           "length": 1,
           "op": "removerange"
          }
         ],
         "key": "hash",
         "op": "patch"
        }
       ],
       "key": "interpreter",
       "op": "patch"
      }
     ],
     "key": "vscode",
     "op": "patch"
    }
   ],
   "remote_diff": [
    {
     "diff": [
      {
       "diff": [
        {
         "key": 0,
         "op": "addrange",
         "valuelist": [
          "Python 3.10.6 ('stim')"
         ]
        },
        {
         "key": 0,
         "length": 1,
         "op": "removerange"
        }
       ],
       "key": "display_name",
       "op": "patch"
      }
     ],
     "key": "kernelspec",
     "op": "patch"
    },
    {
     "diff": [
      {
       "diff": [
        {
         "diff": [
          {
           "key": 5,
           "op": "addrange",
           "valuelist": "6"
          },
          {
           "key": 5,
           "length": 1,
           "op": "removerange"
          }
         ],
         "key": 0,
         "op": "patch"
        }
       ],
       "key": "version",
       "op": "patch"
      }
     ],
     "key": "language_info",
     "op": "patch"
    },
    {
     "diff": [
      {
       "diff": [
        {
         "diff": [
          {
           "key": 0,
           "op": "addrange",
           "valuelist": [
            "10be752cd7fb305c8e34fd52db42c978fe2f0b4c23f0946d27e53ffa605b7ad9"
           ]
          },
          {
           "key": 0,
           "length": 1,
           "op": "removerange"
          }
         ],
         "key": "hash",
         "op": "patch"
        }
       ],
       "key": "interpreter",
       "op": "patch"
      }
     ],
     "key": "vscode",
     "op": "patch"
    }
   ]
  },
  "vscode": {
   "interpreter": {
    "hash": "949777d72b0d2535278d3dc13498b2535136f6dfe0678499012e853ee9abcab1"
   }
  }
 },
 "nbformat": 4,
 "nbformat_minor": 5
}
