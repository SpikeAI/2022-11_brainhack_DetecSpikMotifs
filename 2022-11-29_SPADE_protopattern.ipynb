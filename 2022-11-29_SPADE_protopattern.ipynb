{
 "cells": [
  {
   "cell_type": "markdown",
   "id": "4e607479",
   "metadata": {},
   "source": [
    "#  Spike PAtterns DEtection using SPADE\n"
   ]
  },
  {
   "cell_type": "code",
   "execution_count": null,
   "id": "1c0163f5-b685-412d-b5c6-8ff1670e9998",
   "metadata": {},
   "outputs": [],
   "source": [
    "import numpy as np\n",
    "import quantities as pq\n",
    "import neo\n",
    "import elephant\n",
    "import viziphant\n",
    "np.random.seed(4542)"
   ]
  },
  {
   "cell_type": "markdown",
   "id": "5488bfdb",
   "metadata": {},
   "source": [
    "## introducing heterogeneous delays\n",
    "\n",
    "the function developed in the scan + a shift in time"
   ]
  },
  {
   "cell_type": "code",
   "execution_count": null,
   "id": "717a2fc9",
   "metadata": {},
   "outputs": [],
   "source": [
    "t_stop = 10*pq.s\n",
    "slope = 1.\n",
    "A_sync = 0.05\n",
    "shift = 0.0\n",
    "A = [0]+[1.-A_sync]+[0]*8+[A_sync]\n",
    "spiketrains = elephant.spike_train_generation.compound_poisson_process(\n",
    "                             rate=5*pq.Hz, A=A, shift=shift*pq.ms, t_stop=10*pq.s)\n",
    "                             \n"
   ]
  },
  {
   "cell_type": "markdown",
   "id": "fcf629ff",
   "metadata": {},
   "source": [
    "Add a shift:"
   ]
  },
  {
   "cell_type": "code",
   "execution_count": null,
   "id": "1746b8cf",
   "metadata": {},
   "outputs": [],
   "source": [
    "spiketrains[0].times + 4.2*pq.s"
   ]
  },
  {
   "cell_type": "markdown",
   "id": "fcf629ff",
   "metadata": {},
   "source": [
    "Wrap around time:"
   ]
  },
  {
   "cell_type": "code",
   "execution_count": null,
   "id": "e2d1a6e7",
   "metadata": {},
   "outputs": [],
   "source": [
    "np.sort(np.mod(spiketrains[0].times + 4.2*pq.s, 10*pq.s))"
   ]
  },
  {
   "cell_type": "markdown",
   "id": "fcf629ff",
   "metadata": {},
   "source": [
    "Sort in time:"
   ]
  },
  {
   "cell_type": "code",
   "execution_count": null,
   "id": "29276eb8",
   "metadata": {},
   "outputs": [],
   "source": [
    "np.sort(np.mod(spiketrains[0].times + 4.2*pq.s, 10*pq.s))"
   ]
  },
  {
   "cell_type": "markdown",
   "id": "69a909c2",
   "metadata": {},
   "source": [
    "https://neo.readthedocs.io/en/stable/core.html?highlight=spiketrain#example-spiketrain"
   ]
  },
  {
   "cell_type": "code",
   "execution_count": null,
   "id": "f5f5ae6b",
   "metadata": {},
   "outputs": [],
   "source": [
    "neo.SpikeTrain(np.sort(np.mod(spiketrains[0].times + 4.2*pq.s, 10*pq.s)), t_start=0*pq.s, t_stop=10*pq.s)\n",
    "\n"
   ]
  },
  {
   "cell_type": "code",
   "execution_count": null,
   "id": "5cc658fd",
   "metadata": {},
   "outputs": [],
   "source": [
    "for i_st in range(10):\n",
    "    delay = (i_st*slope)*pq.ms\n",
    "    spike_times = np.sort(np.mod(spiketrains[i_st].times + delay, t_stop))\n",
    "    spiketrains[i_st] = neo.SpikeTrain(spike_times, t_start=0*pq.s, t_stop=t_stop)"
   ]
  },
  {
   "cell_type": "code",
   "execution_count": null,
   "id": "8339fe87",
   "metadata": {},
   "outputs": [],
   "source": [
    "print(slope, 'max delay=', 10*slope, 'ms')"
   ]
  },
  {
   "cell_type": "code",
   "execution_count": null,
   "id": "5e834692",
   "metadata": {},
   "outputs": [],
   "source": [
    "\n",
    "import matplotlib.pyplot as plt\n",
    "plt.figure(figsize=(15, 7))\n",
    "plt.eventplot([spiketrains[i].magnitude for i in range(len(spiketrains))], linelengths=0.75, color='black')\n",
    "plt.xlabel('Time (ms)', fontsize=16)\n",
    "plt.ylabel('Neuron')\n",
    "plt.title(\"Raster plot\");"
   ]
  },
  {
   "cell_type": "markdown",
   "id": "fcf629ff",
   "metadata": {},
   "source": [
    "All in one function:"
   ]
  },
  {
   "cell_type": "code",
   "execution_count": null,
   "id": "79922ad6",
   "metadata": {},
   "outputs": [],
   "source": [
    "\n",
    "def generate_and_test(A_sync=A_sync, shift=shift, winlen=1, slope=slope, t_stop=t_stop):\n",
    "\n",
    "    A = [0]+[1.-A_sync]+[0]*8+[A_sync]\n",
    "    spiketrains = elephant.spike_train_generation.compound_poisson_process(\n",
    "                             rate=5*pq.Hz, A=A, shift=shift*pq.ms, t_stop=t_stop)\n",
    "    for i_st in range(10):\n",
    "        delay = (i_st*slope)*pq.ms\n",
    "        spike_times = np.sort(np.mod(spiketrains[i_st].times + delay, t_stop))\n",
    "        spiketrains[i_st] = neo.SpikeTrain(spike_times, t_start=0*pq.s, t_stop=t_stop)\n",
    "\n",
    "    for i in range(90):\n",
    "        spiketrains.append(elephant.spike_train_generation.homogeneous_poisson_process(\n",
    "            rate=5*pq.Hz, t_stop=10*pq.s))\n",
    "    patterns = elephant.spade.spade(\n",
    "                                spiketrains=spiketrains, binsize=1*pq.ms, winlen=winlen, min_spikes=3,\n",
    "                                n_surr=100, dither=5*pq.ms,\n",
    "                                psr_param=[0,0,0],\n",
    "                                output_format='patterns')['patterns']\n",
    "    return patterns"
   ]
  },
  {
   "cell_type": "markdown",
   "id": "5488bfdb",
   "metadata": {},
   "source": [
    "\n",
    "* changing the synchrony probability to check when SPADE will begin to fail:\n"
   ]
  },
  {
   "cell_type": "code",
   "execution_count": null,
   "id": "8bc9a171",
   "metadata": {},
   "outputs": [],
   "source": [
    "for slope_ in np.logspace(-1, 1, 10, base=10):\n",
    "    patterns = generate_and_test(slope=slope_)\n",
    "    print(slope_, 'max delay=', 10*slope, 'ms: ', patterns)"
   ]
  },
  {
   "cell_type": "code",
   "execution_count": null,
   "id": "8bc9a171",
   "metadata": {},
   "outputs": [],
   "source": [
    "for slope_ in np.logspace(-1, 1, 10, base=10):\n",
    "    patterns = generate_and_test(slope=slope_, winlen=10)\n",
    "    print(slope_, 'max delay=', 10*slope, 'ms: ', patterns)"
   ]
  }
 ],
 "metadata": {
  "kernelspec": {
   "display_name": "Python 3.9.13 ('brainhack')",
   "language": "python",
   "name": "python3"
  },
  "language_info": {
   "codemirror_mode": {
    "name": "ipython",
    "version": 3
   },
   "file_extension": ".py",
   "mimetype": "text/x-python",
   "name": "python",
   "nbconvert_exporter": "python",
   "pygments_lexer": "ipython3",
   "version": "3.9.13"
  },
  "vscode": {
   "interpreter": {
    "hash": "f76abcfae7407d101ef34ba86f468988314045e4e2c214982f718a8acd3606b2"
   }
  }
 },
 "nbformat": 4,
 "nbformat_minor": 5
}
