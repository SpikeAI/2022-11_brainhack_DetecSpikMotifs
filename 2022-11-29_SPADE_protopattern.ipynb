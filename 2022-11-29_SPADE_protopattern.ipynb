{
 "cells": [
  {
   "cell_type": "markdown",
   "id": "4e607479",
   "metadata": {},
   "source": [
    "#  Spike PAtterns DEtection using SPADE\n"
   ]
  },
  {
   "cell_type": "code",
   "execution_count": 1,
   "id": "1c0163f5-b685-412d-b5c6-8ff1670e9998",
   "metadata": {},
   "outputs": [],
   "source": [
    "import numpy as np\n",
    "import quantities as pq\n",
    "import neo\n",
    "import elephant\n",
    "import viziphant\n",
    "np.random.seed(4542)"
   ]
  },
  {
   "cell_type": "markdown",
   "id": "5488bfdb",
   "metadata": {},
   "source": [
    "## introducing heterogeneous delays\n",
    "\n",
    "the function developed in the scan + a shift in time"
   ]
  },
  {
   "cell_type": "code",
   "execution_count": 36,
   "id": "717a2fc9",
   "metadata": {},
   "outputs": [],
   "source": [
    "t_stop = 400*pq.ms\n",
    "slope = 4.\n",
    "A_sync = 0.15\n",
    "shift = 0.0\n",
    "A = [0]+[1.-A_sync]+[0]*8+[A_sync]\n",
    "spiketrains = elephant.spike_train_generation.compound_poisson_process(\n",
    "                             rate=5*pq.Hz, A=A, shift=shift*pq.ms, t_stop=t_stop)\n",
    "                             \n"
   ]
  },
  {
   "cell_type": "markdown",
   "id": "fcf629ff",
   "metadata": {},
   "source": [
    "Add a shift:"
   ]
  },
  {
   "cell_type": "code",
   "execution_count": 37,
   "id": "1746b8cf",
   "metadata": {},
   "outputs": [
    {
     "data": {
      "text/plain": [
       "array([4542.91570369]) * ms"
      ]
     },
     "execution_count": 37,
     "metadata": {},
     "output_type": "execute_result"
    }
   ],
   "source": [
    "spiketrains[0].times + 4.2*pq.s"
   ]
  },
  {
   "cell_type": "markdown",
   "id": "fcf629ff",
   "metadata": {},
   "source": [
    "Wrap around time:"
   ]
  },
  {
   "cell_type": "code",
   "execution_count": 38,
   "id": "e2d1a6e7",
   "metadata": {},
   "outputs": [
    {
     "data": {
      "text/plain": [
       "array([347.11570369]) * ms"
      ]
     },
     "execution_count": 38,
     "metadata": {},
     "output_type": "execute_result"
    }
   ],
   "source": [
    "np.sort(np.mod(spiketrains[0].times + 4.2*pq.ms, 1000.*pq.ms))"
   ]
  },
  {
   "cell_type": "markdown",
   "id": "fcf629ff",
   "metadata": {},
   "source": [
    "Sort in time:"
   ]
  },
  {
   "cell_type": "code",
   "execution_count": 39,
   "id": "29276eb8",
   "metadata": {},
   "outputs": [
    {
     "data": {
      "text/plain": [
       "array([347.11570369]) * ms"
      ]
     },
     "execution_count": 39,
     "metadata": {},
     "output_type": "execute_result"
    }
   ],
   "source": [
    "np.sort(np.mod(spiketrains[0].times + 4.2*pq.ms, 1000.*pq.ms))"
   ]
  },
  {
   "cell_type": "markdown",
   "id": "69a909c2",
   "metadata": {},
   "source": [
    "https://neo.readthedocs.io/en/stable/core.html?highlight=spiketrain#example-spiketrain"
   ]
  },
  {
   "cell_type": "code",
   "execution_count": 40,
   "id": "f5f5ae6b",
   "metadata": {},
   "outputs": [
    {
     "data": {
      "text/plain": [
       "SpikeTrain"
      ]
     },
     "execution_count": 40,
     "metadata": {},
     "output_type": "execute_result"
    }
   ],
   "source": [
    "neo.SpikeTrain(np.sort(np.mod(spiketrains[0].times + 4.2*pq.s, 1000.*pq.ms)), t_start=0*pq.ms, t_stop=1000.*pq.ms)\n",
    "\n"
   ]
  },
  {
   "cell_type": "code",
   "execution_count": 41,
   "id": "5cc658fd",
   "metadata": {},
   "outputs": [],
   "source": [
    "for i_st in range(10):\n",
    "    delay = (i_st*slope)*pq.ms\n",
    "    spike_times = np.sort(np.mod(spiketrains[i_st].times + delay, t_stop))\n",
    "    spiketrains[i_st] = neo.SpikeTrain(spike_times, t_start=0*pq.ms, t_stop=t_stop)"
   ]
  },
  {
   "cell_type": "code",
   "execution_count": 42,
   "id": "8339fe87",
   "metadata": {},
   "outputs": [
    {
     "name": "stdout",
     "output_type": "stream",
     "text": [
      "4.0 max delay= 40.0 ms\n"
     ]
    }
   ],
   "source": [
    "print(slope, 'max delay=', 10*slope, 'ms')"
   ]
  },
  {
   "cell_type": "code",
   "execution_count": 43,
   "id": "5e834692",
   "metadata": {},
   "outputs": [
    {
     "data": {
      "image/png": "[encoded data removed]",
      "text/plain": [
       "<Figure size 1500x700 with 1 Axes>"
      ]
     },
     "metadata": {},
     "output_type": "display_data"
    }
   ],
   "source": [
    "\n",
    "import matplotlib.pyplot as plt\n",
    "plt.figure(figsize=(15, 7))\n",
    "plt.eventplot([spiketrains[i].magnitude for i in range(len(spiketrains))], linelengths=0.75, color='black')\n",
    "plt.xlabel('Time (ms)', fontsize=16)\n",
    "plt.ylabel('Neuron')\n",
    "plt.title(\"Raster plot\");"
   ]
  },
  {
   "cell_type": "code",
   "execution_count": null,
   "id": "c6612aa2",
   "metadata": {},
   "outputs": [],
   "source": [
    "from brainhack import printfig\n",
    "printfig(fig, 'raster_plot_linearpattern')"
   ]
  },
  {
   "cell_type": "markdown",
   "id": "fcf629ff",
   "metadata": {},
   "source": [
    "All in one function:"
   ]
  },
  {
   "cell_type": "code",
   "execution_count": 48,
   "id": "79922ad6",
   "metadata": {},
   "outputs": [],
   "source": [
    "t_stop = 10000*pq.ms\n",
    "def generate_and_test(A_sync=A_sync, shift=shift, winlen=1, slope=slope, t_stop=t_stop):\n",
    "\n",
    "    A = [0]+[1.-A_sync]+[0]*8+[A_sync]\n",
    "    spiketrains = elephant.spike_train_generation.compound_poisson_process(\n",
    "                             rate=5*pq.Hz, A=A, shift=shift*pq.ms, t_stop=t_stop)\n",
    "    for i_st in range(10):\n",
    "        delay = (i_st*slope)*pq.ms\n",
    "        spike_times = np.sort(np.mod(spiketrains[i_st].times + delay, t_stop))\n",
    "        spiketrains[i_st] = neo.SpikeTrain(spike_times, t_start=0*pq.ms, t_stop=t_stop)\n",
    "\n",
    "    for i in range(90):\n",
    "        spiketrains.append(elephant.spike_train_generation.homogeneous_poisson_process(\n",
    "            rate=5*pq.Hz, t_stop=t_stop))\n",
    "    patterns = elephant.spade.spade(\n",
    "                                spiketrains=spiketrains, binsize=1*pq.ms, winlen=winlen, min_spikes=3,\n",
    "                                n_surr=100, dither=5*pq.ms,\n",
    "                                psr_param=[0,0,0],\n",
    "                                output_format='patterns')['patterns']\n",
    "    return patterns"
   ]
  },
  {
   "cell_type": "markdown",
   "id": "5488bfdb",
   "metadata": {},
   "source": [
    "\n",
    "* changing the synchrony probability to check when SPADE will begin to fail:\n"
   ]
  },
  {
   "cell_type": "code",
   "execution_count": 49,
   "id": "8bc9a171",
   "metadata": {},
   "outputs": [
    {
     "name": "stderr",
     "output_type": "stream",
     "text": [
      "/Users/laurentperrinet/opt/anaconda3/envs/brainhack/lib/python3.9/site-packages/elephant/spade.py:679: UserWarning: Optimized C implementation of FCA (fim.so/fim.pyd) not found in elephant/spade_src folder, or not compatible with this Python version. You are using the pure Python implementation of fast fca.\n",
      "  warnings.warn(\n"
     ]
    },
    {
     "name": "stdout",
     "output_type": "stream",
     "text": [
      "Time for data mining: 28.213847875595093\n",
      "Time for pvalue spectrum computation: 1253.4751369953156\n",
      "0.1 max delay= 40.0 ms:  []\n",
      "Time for data mining: 16.484561920166016\n",
      "Time for pvalue spectrum computation: 1284.2360949516296\n",
      "0.16681005372000587 max delay= 40.0 ms:  [{'itemset': (33, 3, 4), 'windows_ids': (1538, 8695), 'neurons': [33, 3, 4], 'lags': array([0., 0.]) * ms, 'times': array([1538., 8695.]) * ms, 'signature': (3, 2), 'pvalue': 1.0}]\n",
      "Time for data mining: 11.799942970275879\n",
      "Time for pvalue spectrum computation: 1188.7150299549103\n",
      "0.2782559402207124 max delay= 40.0 ms:  [{'itemset': (2, 3, 4), 'windows_ids': (6308, 2574, 7984, 2962, 6237, 5975, 2461, 5758), 'neurons': [2, 3, 4], 'lags': array([0., 0.]) * ms, 'times': array([2461., 2574., 2962., 5758., 5975., 6237., 6308., 7984.]) * ms, 'signature': (3, 8), 'pvalue': 0.0}, {'itemset': (4, 5, 6), 'windows_ids': (636, 8292, 3206, 7464, 1352, 3304, 3947, 1741, 3886, 1904, 9361, 3952, 6393, 1978, 7580), 'neurons': [4, 5, 6], 'lags': array([0., 0.]) * ms, 'times': array([ 636., 1352., 1741., 1904., 1978., 3206., 3304., 3886., 3947.,\n",
      "       3952., 6393., 7464., 7580., 8292., 9361.]) * ms, 'signature': (3, 15), 'pvalue': 0.0}, {'itemset': (0, 1, 2), 'windows_ids': (8291, 3205, 1351, 1223, 3303, 3946, 1740, 3885, 1006, 1903, 9360, 3951, 1977, 635), 'neurons': [0, 1, 2], 'lags': array([0., 0.]) * ms, 'times': array([ 635., 1006., 1223., 1351., 1740., 1903., 1977., 3205., 3303.,\n",
      "       3885., 3946., 3951., 8291., 9360.]) * ms, 'signature': (3, 14), 'pvalue': 0.0}, {'itemset': (8, 9, 7), 'windows_ids': (8293, 1353, 1225, 3305, 3948, 1742, 1008, 3953, 9362, 1979), 'neurons': [8, 9, 7], 'lags': array([0., 0.]) * ms, 'times': array([1008., 1225., 1353., 1742., 1979., 3305., 3948., 3953., 8293.,\n",
      "       9362.]) * ms, 'signature': (3, 10), 'pvalue': 0.0}, {'itemset': (50, 6, 7), 'windows_ids': (7464, 1008), 'neurons': [50, 6, 7], 'lags': array([0., 0.]) * ms, 'times': array([1008., 7464.]) * ms, 'signature': (3, 2), 'pvalue': 0.95}, {'itemset': (65, 3, 4), 'windows_ids': (1978, 2461), 'neurons': [65, 3, 4], 'lags': array([0., 0.]) * ms, 'times': array([1978., 2461.]) * ms, 'signature': (3, 2), 'pvalue': 0.95}]\n",
      "Time for data mining: 9.15893030166626\n"
     ]
    }
   ],
   "source": [
    "for slope_ in np.logspace(-1, 1, 10, base=10):\n",
    "    patterns = generate_and_test(slope=slope_)\n",
    "    print(slope_, 'max delay=', 10*slope, 'ms: ', patterns)"
   ]
  },
  {
   "cell_type": "code",
   "execution_count": null,
   "id": "8bc9a171",
   "metadata": {},
   "outputs": [
    {
     "ename": "ValueError",
     "evalue": "(ValueError('The input must have the same units.'), 'If you want to bin over the shared [t_start, t_stop] interval, provide shared t_start and t_stop explicitly, which can be obtained like so: t_start, t_stop = elephant.utils.get_common_start_stop_times(spiketrains)')",
     "output_type": "error",
     "traceback": [
      "\u001b[0;31m---------------------------------------------------------------------------\u001b[0m",
      "\u001b[0;31mValueError\u001b[0m                                Traceback (most recent call last)",
      "File \u001b[0;32m~/opt/anaconda3/envs/brainhack/lib/python3.9/site-packages/elephant/conversion.py:517\u001b[0m, in \u001b[0;36mBinnedSpikeTrain._resolve_input_parameters\u001b[0;34m(self, spiketrains)\u001b[0m\n\u001b[1;32m    516\u001b[0m \u001b[39mtry\u001b[39;00m:\n\u001b[0;32m--> 517\u001b[0m     check_neo_consistency(spiketrains,\n\u001b[1;32m    518\u001b[0m                           object_type\u001b[39m=\u001b[39;49mneo\u001b[39m.\u001b[39;49mSpikeTrain,\n\u001b[1;32m    519\u001b[0m                           t_start\u001b[39m=\u001b[39;49m\u001b[39mself\u001b[39;49m\u001b[39m.\u001b[39;49m_t_start,\n\u001b[1;32m    520\u001b[0m                           t_stop\u001b[39m=\u001b[39;49m\u001b[39mself\u001b[39;49m\u001b[39m.\u001b[39;49m_t_stop,\n\u001b[1;32m    521\u001b[0m                           tolerance\u001b[39m=\u001b[39;49m\u001b[39mself\u001b[39;49m\u001b[39m.\u001b[39;49mtolerance)\n\u001b[1;32m    522\u001b[0m \u001b[39mexcept\u001b[39;00m \u001b[39mValueError\u001b[39;00m \u001b[39mas\u001b[39;00m er:\n\u001b[1;32m    523\u001b[0m     \u001b[39m# different t_start/t_stop\u001b[39;00m\n",
      "File \u001b[0;32m~/opt/anaconda3/envs/brainhack/lib/python3.9/site-packages/elephant/utils.py:210\u001b[0m, in \u001b[0;36mcheck_neo_consistency\u001b[0;34m(neo_objects, object_type, t_start, t_stop, tolerance)\u001b[0m\n\u001b[1;32m    209\u001b[0m \u001b[39mif\u001b[39;00m neo_obj\u001b[39m.\u001b[39munits \u001b[39m!=\u001b[39m units:\n\u001b[0;32m--> 210\u001b[0m     \u001b[39mraise\u001b[39;00m \u001b[39mValueError\u001b[39;00m(\u001b[39m\"\u001b[39m\u001b[39mThe input must have the same units.\u001b[39m\u001b[39m\"\u001b[39m)\n\u001b[1;32m    211\u001b[0m \u001b[39mif\u001b[39;00m t_start \u001b[39mis\u001b[39;00m \u001b[39mNone\u001b[39;00m \u001b[39mand\u001b[39;00m \u001b[39mabs\u001b[39m(neo_obj\u001b[39m.\u001b[39mt_start\u001b[39m.\u001b[39mitem() \u001b[39m-\u001b[39m start) \u001b[39m>\u001b[39m tolerance:\n",
      "\u001b[0;31mValueError\u001b[0m: The input must have the same units.",
      "\nDuring handling of the above exception, another exception occurred:\n",
      "\u001b[0;31mValueError\u001b[0m                                Traceback (most recent call last)",
      "Cell \u001b[0;32mIn [47], line 2\u001b[0m\n\u001b[1;32m      1\u001b[0m \u001b[39mfor\u001b[39;00m slope_ \u001b[39min\u001b[39;00m np\u001b[39m.\u001b[39mlogspace(\u001b[39m-\u001b[39m\u001b[39m1\u001b[39m, \u001b[39m1\u001b[39m, \u001b[39m10\u001b[39m, base\u001b[39m=\u001b[39m\u001b[39m10\u001b[39m):\n\u001b[0;32m----> 2\u001b[0m     patterns \u001b[39m=\u001b[39m generate_and_test(slope\u001b[39m=\u001b[39;49mslope_, winlen\u001b[39m=\u001b[39;49m\u001b[39m10\u001b[39;49m)\n\u001b[1;32m      3\u001b[0m     \u001b[39mprint\u001b[39m(slope_, \u001b[39m'\u001b[39m\u001b[39mmax delay=\u001b[39m\u001b[39m'\u001b[39m, \u001b[39m10\u001b[39m\u001b[39m*\u001b[39mslope, \u001b[39m'\u001b[39m\u001b[39mms: \u001b[39m\u001b[39m'\u001b[39m, patterns)\n",
      "Cell \u001b[0;32mIn [45], line 15\u001b[0m, in \u001b[0;36mgenerate_and_test\u001b[0;34m(A_sync, shift, winlen, slope, t_stop)\u001b[0m\n\u001b[1;32m     12\u001b[0m \u001b[39mfor\u001b[39;00m i \u001b[39min\u001b[39;00m \u001b[39mrange\u001b[39m(\u001b[39m90\u001b[39m):\n\u001b[1;32m     13\u001b[0m     spiketrains\u001b[39m.\u001b[39mappend(elephant\u001b[39m.\u001b[39mspike_train_generation\u001b[39m.\u001b[39mhomogeneous_poisson_process(\n\u001b[1;32m     14\u001b[0m         rate\u001b[39m=\u001b[39m\u001b[39m5\u001b[39m\u001b[39m*\u001b[39mpq\u001b[39m.\u001b[39mHz, t_stop\u001b[39m=\u001b[39m\u001b[39m10\u001b[39m\u001b[39m*\u001b[39mpq\u001b[39m.\u001b[39ms))\n\u001b[0;32m---> 15\u001b[0m patterns \u001b[39m=\u001b[39m elephant\u001b[39m.\u001b[39;49mspade\u001b[39m.\u001b[39;49mspade(\n\u001b[1;32m     16\u001b[0m                             spiketrains\u001b[39m=\u001b[39;49mspiketrains, binsize\u001b[39m=\u001b[39;49m\u001b[39m1\u001b[39;49m\u001b[39m*\u001b[39;49mpq\u001b[39m.\u001b[39;49mms, winlen\u001b[39m=\u001b[39;49mwinlen, min_spikes\u001b[39m=\u001b[39;49m\u001b[39m3\u001b[39;49m,\n\u001b[1;32m     17\u001b[0m                             n_surr\u001b[39m=\u001b[39;49m\u001b[39m100\u001b[39;49m, dither\u001b[39m=\u001b[39;49m\u001b[39m5\u001b[39;49m\u001b[39m*\u001b[39;49mpq\u001b[39m.\u001b[39;49mms,\n\u001b[1;32m     18\u001b[0m                             psr_param\u001b[39m=\u001b[39;49m[\u001b[39m0\u001b[39;49m,\u001b[39m0\u001b[39;49m,\u001b[39m0\u001b[39;49m],\n\u001b[1;32m     19\u001b[0m                             output_format\u001b[39m=\u001b[39;49m\u001b[39m'\u001b[39;49m\u001b[39mpatterns\u001b[39;49m\u001b[39m'\u001b[39;49m)[\u001b[39m'\u001b[39m\u001b[39mpatterns\u001b[39m\u001b[39m'\u001b[39m]\n\u001b[1;32m     20\u001b[0m \u001b[39mreturn\u001b[39;00m patterns\n",
      "File \u001b[0;32m~/opt/anaconda3/envs/brainhack/lib/python3.9/site-packages/elephant/utils.py:80\u001b[0m, in \u001b[0;36mdeprecated_alias.<locals>.deco.<locals>.wrapper\u001b[0;34m(*args, **kwargs)\u001b[0m\n\u001b[1;32m     77\u001b[0m \u001b[39m@wraps\u001b[39m(func)\n\u001b[1;32m     78\u001b[0m \u001b[39mdef\u001b[39;00m \u001b[39mwrapper\u001b[39m(\u001b[39m*\u001b[39margs, \u001b[39m*\u001b[39m\u001b[39m*\u001b[39mkwargs):\n\u001b[1;32m     79\u001b[0m     _rename_kwargs(func\u001b[39m.\u001b[39m\u001b[39m__name__\u001b[39m, kwargs, aliases)\n\u001b[0;32m---> 80\u001b[0m     \u001b[39mreturn\u001b[39;00m func(\u001b[39m*\u001b[39;49margs, \u001b[39m*\u001b[39;49m\u001b[39m*\u001b[39;49mkwargs)\n",
      "File \u001b[0;32m~/opt/anaconda3/envs/brainhack/lib/python3.9/site-packages/elephant/spade.py:351\u001b[0m, in \u001b[0;36mspade\u001b[0;34m(spiketrains, bin_size, winlen, min_spikes, min_occ, max_spikes, max_occ, min_neu, approx_stab_pars, n_surr, dither, spectrum, alpha, stat_corr, surr_method, psr_param, output_format, **surr_kwargs)\u001b[0m\n\u001b[1;32m    348\u001b[0m time_mining \u001b[39m=\u001b[39m time\u001b[39m.\u001b[39mtime()\n\u001b[1;32m    349\u001b[0m \u001b[39mif\u001b[39;00m rank \u001b[39m==\u001b[39m \u001b[39m0\u001b[39m \u001b[39mor\u001b[39;00m compute_stability:\n\u001b[1;32m    350\u001b[0m     \u001b[39m# Mine the spiketrains for extraction of concepts\u001b[39;00m\n\u001b[0;32m--> 351\u001b[0m     concepts, rel_matrix \u001b[39m=\u001b[39m concepts_mining(\n\u001b[1;32m    352\u001b[0m         spiketrains, bin_size, winlen, min_spikes\u001b[39m=\u001b[39;49mmin_spikes,\n\u001b[1;32m    353\u001b[0m         min_occ\u001b[39m=\u001b[39;49mmin_occ, max_spikes\u001b[39m=\u001b[39;49mmax_spikes, max_occ\u001b[39m=\u001b[39;49mmax_occ,\n\u001b[1;32m    354\u001b[0m         min_neu\u001b[39m=\u001b[39;49mmin_neu, report\u001b[39m=\u001b[39;49m\u001b[39m'\u001b[39;49m\u001b[39ma\u001b[39;49m\u001b[39m'\u001b[39;49m)\n\u001b[1;32m    355\u001b[0m     time_mining \u001b[39m=\u001b[39m time\u001b[39m.\u001b[39mtime() \u001b[39m-\u001b[39m time_mining\n\u001b[1;32m    356\u001b[0m     \u001b[39mprint\u001b[39m(\u001b[39m\"\u001b[39m\u001b[39mTime for data mining: \u001b[39m\u001b[39m{}\u001b[39;00m\u001b[39m\"\u001b[39m\u001b[39m.\u001b[39mformat(time_mining))\n",
      "File \u001b[0;32m~/opt/anaconda3/envs/brainhack/lib/python3.9/site-packages/elephant/utils.py:80\u001b[0m, in \u001b[0;36mdeprecated_alias.<locals>.deco.<locals>.wrapper\u001b[0;34m(*args, **kwargs)\u001b[0m\n\u001b[1;32m     77\u001b[0m \u001b[39m@wraps\u001b[39m(func)\n\u001b[1;32m     78\u001b[0m \u001b[39mdef\u001b[39;00m \u001b[39mwrapper\u001b[39m(\u001b[39m*\u001b[39margs, \u001b[39m*\u001b[39m\u001b[39m*\u001b[39mkwargs):\n\u001b[1;32m     79\u001b[0m     _rename_kwargs(func\u001b[39m.\u001b[39m\u001b[39m__name__\u001b[39m, kwargs, aliases)\n\u001b[0;32m---> 80\u001b[0m     \u001b[39mreturn\u001b[39;00m func(\u001b[39m*\u001b[39;49margs, \u001b[39m*\u001b[39;49m\u001b[39m*\u001b[39;49mkwargs)\n",
      "File \u001b[0;32m~/opt/anaconda3/envs/brainhack/lib/python3.9/site-packages/elephant/spade.py:644\u001b[0m, in \u001b[0;36mconcepts_mining\u001b[0;34m(spiketrains, bin_size, winlen, min_spikes, min_occ, max_spikes, max_occ, min_neu, report)\u001b[0m\n\u001b[1;32m    641\u001b[0m \u001b[39m# if spiketrains is list of neo.SpikeTrain convert to conv.BinnedSpikeTrain\u001b[39;00m\n\u001b[1;32m    642\u001b[0m \u001b[39mif\u001b[39;00m \u001b[39misinstance\u001b[39m(spiketrains, (\u001b[39mlist\u001b[39m, SpikeTrainList)) \u001b[39mand\u001b[39;00m \\\n\u001b[1;32m    643\u001b[0m         \u001b[39misinstance\u001b[39m(spiketrains[\u001b[39m0\u001b[39m], neo\u001b[39m.\u001b[39mSpikeTrain):\n\u001b[0;32m--> 644\u001b[0m     spiketrains \u001b[39m=\u001b[39m conv\u001b[39m.\u001b[39;49mBinnedSpikeTrain(\n\u001b[1;32m    645\u001b[0m         spiketrains, bin_size\u001b[39m=\u001b[39;49mbin_size, tolerance\u001b[39m=\u001b[39;49m\u001b[39mNone\u001b[39;49;00m)\n\u001b[1;32m    646\u001b[0m \u001b[39mif\u001b[39;00m \u001b[39mnot\u001b[39;00m \u001b[39misinstance\u001b[39m(spiketrains, conv\u001b[39m.\u001b[39mBinnedSpikeTrain):\n\u001b[1;32m    647\u001b[0m     \u001b[39mraise\u001b[39;00m \u001b[39mTypeError\u001b[39;00m(\n\u001b[1;32m    648\u001b[0m         \u001b[39m'\u001b[39m\u001b[39mspiketrains must be either a list of neo.SpikeTrain or \u001b[39m\u001b[39m'\u001b[39m\n\u001b[1;32m    649\u001b[0m         \u001b[39m'\u001b[39m\u001b[39ma conv.BinnedSpikeTrain object\u001b[39m\u001b[39m'\u001b[39m)\n",
      "File \u001b[0;32m~/opt/anaconda3/envs/brainhack/lib/python3.9/site-packages/elephant/utils.py:80\u001b[0m, in \u001b[0;36mdeprecated_alias.<locals>.deco.<locals>.wrapper\u001b[0;34m(*args, **kwargs)\u001b[0m\n\u001b[1;32m     77\u001b[0m \u001b[39m@wraps\u001b[39m(func)\n\u001b[1;32m     78\u001b[0m \u001b[39mdef\u001b[39;00m \u001b[39mwrapper\u001b[39m(\u001b[39m*\u001b[39margs, \u001b[39m*\u001b[39m\u001b[39m*\u001b[39mkwargs):\n\u001b[1;32m     79\u001b[0m     _rename_kwargs(func\u001b[39m.\u001b[39m\u001b[39m__name__\u001b[39m, kwargs, aliases)\n\u001b[0;32m---> 80\u001b[0m     \u001b[39mreturn\u001b[39;00m func(\u001b[39m*\u001b[39;49margs, \u001b[39m*\u001b[39;49m\u001b[39m*\u001b[39;49mkwargs)\n",
      "File \u001b[0;32m~/opt/anaconda3/envs/brainhack/lib/python3.9/site-packages/elephant/conversion.py:356\u001b[0m, in \u001b[0;36mBinnedSpikeTrain.__init__\u001b[0;34m(self, spiketrains, bin_size, n_bins, t_start, t_stop, tolerance, sparse_format)\u001b[0m\n\u001b[1;32m    354\u001b[0m \u001b[39mself\u001b[39m\u001b[39m.\u001b[39munits \u001b[39m=\u001b[39m \u001b[39mNone\u001b[39;00m  \u001b[39m# will be set later\u001b[39;00m\n\u001b[1;32m    355\u001b[0m \u001b[39m# Check all parameter, set also missing values\u001b[39;00m\n\u001b[0;32m--> 356\u001b[0m \u001b[39mself\u001b[39;49m\u001b[39m.\u001b[39;49m_resolve_input_parameters(spiketrains)\n\u001b[1;32m    357\u001b[0m \u001b[39m# Now create the sparse matrix\u001b[39;00m\n\u001b[1;32m    358\u001b[0m \u001b[39mself\u001b[39m\u001b[39m.\u001b[39msparse_matrix \u001b[39m=\u001b[39m \u001b[39mself\u001b[39m\u001b[39m.\u001b[39m_create_sparse_matrix(\n\u001b[1;32m    359\u001b[0m     spiketrains, sparse_format\u001b[39m=\u001b[39msparse_format)\n",
      "File \u001b[0;32m~/opt/anaconda3/envs/brainhack/lib/python3.9/site-packages/elephant/conversion.py:524\u001b[0m, in \u001b[0;36mBinnedSpikeTrain._resolve_input_parameters\u001b[0;34m(self, spiketrains)\u001b[0m\n\u001b[1;32m    517\u001b[0m     check_neo_consistency(spiketrains,\n\u001b[1;32m    518\u001b[0m                           object_type\u001b[39m=\u001b[39mneo\u001b[39m.\u001b[39mSpikeTrain,\n\u001b[1;32m    519\u001b[0m                           t_start\u001b[39m=\u001b[39m\u001b[39mself\u001b[39m\u001b[39m.\u001b[39m_t_start,\n\u001b[1;32m    520\u001b[0m                           t_stop\u001b[39m=\u001b[39m\u001b[39mself\u001b[39m\u001b[39m.\u001b[39m_t_stop,\n\u001b[1;32m    521\u001b[0m                           tolerance\u001b[39m=\u001b[39m\u001b[39mself\u001b[39m\u001b[39m.\u001b[39mtolerance)\n\u001b[1;32m    522\u001b[0m \u001b[39mexcept\u001b[39;00m \u001b[39mValueError\u001b[39;00m \u001b[39mas\u001b[39;00m er:\n\u001b[1;32m    523\u001b[0m     \u001b[39m# different t_start/t_stop\u001b[39;00m\n\u001b[0;32m--> 524\u001b[0m     \u001b[39mraise\u001b[39;00m \u001b[39mValueError\u001b[39;00m(er, \u001b[39m\"\u001b[39m\u001b[39mIf you want to bin over the shared \u001b[39m\u001b[39m\"\u001b[39m\n\u001b[1;32m    525\u001b[0m                          \u001b[39m\"\u001b[39m\u001b[39m[t_start, t_stop] interval, provide \u001b[39m\u001b[39m\"\u001b[39m\n\u001b[1;32m    526\u001b[0m                          \u001b[39m\"\u001b[39m\u001b[39mshared t_start and t_stop explicitly, \u001b[39m\u001b[39m\"\u001b[39m\n\u001b[1;32m    527\u001b[0m                          \u001b[39m\"\u001b[39m\u001b[39mwhich can be obtained like so: \u001b[39m\u001b[39m\"\u001b[39m\n\u001b[1;32m    528\u001b[0m                          \u001b[39m\"\u001b[39m\u001b[39mt_start, t_stop = elephant.utils.\u001b[39m\u001b[39m\"\u001b[39m\n\u001b[1;32m    529\u001b[0m                          \u001b[39m\"\u001b[39m\u001b[39mget_common_start_stop_times(spiketrains)\u001b[39m\u001b[39m\"\u001b[39m\n\u001b[1;32m    530\u001b[0m                      )\n\u001b[1;32m    532\u001b[0m \u001b[39mif\u001b[39;00m \u001b[39mself\u001b[39m\u001b[39m.\u001b[39m_t_start \u001b[39mis\u001b[39;00m \u001b[39mNone\u001b[39;00m:\n\u001b[1;32m    533\u001b[0m     \u001b[39mself\u001b[39m\u001b[39m.\u001b[39m_t_start \u001b[39m=\u001b[39m spiketrains[\u001b[39m0\u001b[39m]\u001b[39m.\u001b[39mt_start\n",
      "\u001b[0;31mValueError\u001b[0m: (ValueError('The input must have the same units.'), 'If you want to bin over the shared [t_start, t_stop] interval, provide shared t_start and t_stop explicitly, which can be obtained like so: t_start, t_stop = elephant.utils.get_common_start_stop_times(spiketrains)')"
     ]
    }
   ],
   "source": [
    "for slope_ in np.logspace(-1, 1, 10, base=10):\n",
    "    patterns = generate_and_test(slope=slope_, winlen=10)\n",
    "    print(slope_, 'max delay=', 10*slope, 'ms: ', patterns)"
   ]
  },
  {
   "cell_type": "code",
   "execution_count": null,
   "id": "8bc8766c",
   "metadata": {},
   "outputs": [],
   "source": []
  }
 ],
 "metadata": {
  "kernelspec": {
   "display_name": "Python 3.9.13 ('brainhack')",
   "language": "python",
   "name": "python3"
  },
  "language_info": {
   "codemirror_mode": {
    "name": "ipython",
    "version": 3
   },
   "file_extension": ".py",
   "mimetype": "text/x-python",
   "name": "python",
   "nbconvert_exporter": "python",
   "pygments_lexer": "ipython3",
   "version": "3.9.13"
  },
  "vscode": {
   "interpreter": {
    "hash": "f76abcfae7407d101ef34ba86f468988314045e4e2c214982f718a8acd3606b2"
   }
  }
 },
 "nbformat": 4,
 "nbformat_minor": 5
}
