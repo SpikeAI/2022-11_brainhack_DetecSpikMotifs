{
 "cells": [
  {
   "cell_type": "markdown",
   "id": "4e607479",
   "metadata": {},
   "source": [
    "#  Spike PAtterns DEtection using SPADE\n"
   ]
  },
  {
   "cell_type": "code",
   "execution_count": 8,
   "id": "1c0163f5-b685-412d-b5c6-8ff1670e9998",
   "metadata": {},
   "outputs": [],
   "source": [
    "import numpy as np\n",
    "import quantities as pq\n",
    "import neo\n",
    "import elephant\n",
    "import viziphant\n",
    "np.random.seed(4542)"
   ]
  },
  {
   "cell_type": "markdown",
   "id": "5488bfdb",
   "metadata": {},
   "source": [
    "## introducing heterogeneous delays\n",
    "\n",
    "the function developed in the scan + a shift in time"
   ]
  },
  {
   "cell_type": "code",
   "execution_count": 9,
   "id": "717a2fc9",
   "metadata": {},
   "outputs": [],
   "source": [
    "t_stop = 10*pq.s\n",
    "slope = 1.\n",
    "A_sync = 0.05\n",
    "shift = 0.0\n",
    "A = [0]+[1.-A_sync]+[0]*8+[A_sync]\n",
    "spiketrains = elephant.spike_train_generation.compound_poisson_process(\n",
    "                             rate=5*pq.Hz, A=A, shift=shift*pq.ms, t_stop=10*pq.s)\n",
    "                             \n"
   ]
  },
  {
   "cell_type": "markdown",
   "id": "fcf629ff",
   "metadata": {},
   "source": [
    "Add a shift:"
   ]
  },
  {
   "cell_type": "code",
   "execution_count": 10,
   "id": "1746b8cf",
   "metadata": {},
   "outputs": [
    {
     "data": {
      "text/plain": [
       "array([ 4.5428428 ,  4.56964823,  5.42303783,  5.48863725,  5.83905792,\n",
       "        7.08270894,  7.23516076,  7.23817857,  7.61886987,  7.66763254,\n",
       "        8.03237276,  8.05699453,  8.37892833,  8.38912792,  8.70264362,\n",
       "        9.31709083,  9.45194019,  9.52478839, 10.59516735, 10.70198542,\n",
       "       11.12936517, 11.18985003, 11.30209661, 11.35895706, 11.76589684,\n",
       "       11.98118491, 12.44170386, 12.51116287, 12.69874386, 12.90570514,\n",
       "       13.11675734, 13.17507227, 13.23423901, 13.23853449, 13.35468654,\n",
       "       13.59298729, 13.72941963, 13.81571811, 14.1134528 ]) * s"
      ]
     },
     "execution_count": 10,
     "metadata": {},
     "output_type": "execute_result"
    }
   ],
   "source": [
    "spiketrains[0].times + 4.2*pq.s"
   ]
  },
  {
   "cell_type": "markdown",
   "id": "fcf629ff",
   "metadata": {},
   "source": [
    "Wrap around time:"
   ]
  },
  {
   "cell_type": "code",
   "execution_count": 11,
   "id": "e2d1a6e7",
   "metadata": {},
   "outputs": [
    {
     "data": {
      "text/plain": [
       "array([0.59516735, 0.70198542, 1.12936517, 1.18985003, 1.30209661,\n",
       "       1.35895706, 1.76589684, 1.98118491, 2.44170386, 2.51116287,\n",
       "       2.69874386, 2.90570514, 3.11675734, 3.17507227, 3.23423901,\n",
       "       3.23853449, 3.35468654, 3.59298729, 3.72941963, 3.81571811,\n",
       "       4.1134528 , 4.5428428 , 4.56964823, 5.42303783, 5.48863725,\n",
       "       5.83905792, 7.08270894, 7.23516076, 7.23817857, 7.61886987,\n",
       "       7.66763254, 8.03237276, 8.05699453, 8.37892833, 8.38912792,\n",
       "       8.70264362, 9.31709083, 9.45194019, 9.52478839]) * s"
      ]
     },
     "execution_count": 11,
     "metadata": {},
     "output_type": "execute_result"
    }
   ],
   "source": [
    "np.sort(np.mod(spiketrains[0].times + 4.2*pq.s, 10*pq.s))"
   ]
  },
  {
   "cell_type": "markdown",
   "id": "fcf629ff",
   "metadata": {},
   "source": [
    "Sort in time:"
   ]
  },
  {
   "cell_type": "code",
   "execution_count": 12,
   "id": "29276eb8",
   "metadata": {},
   "outputs": [
    {
     "data": {
      "text/plain": [
       "array([0.59516735, 0.70198542, 1.12936517, 1.18985003, 1.30209661,\n",
       "       1.35895706, 1.76589684, 1.98118491, 2.44170386, 2.51116287,\n",
       "       2.69874386, 2.90570514, 3.11675734, 3.17507227, 3.23423901,\n",
       "       3.23853449, 3.35468654, 3.59298729, 3.72941963, 3.81571811,\n",
       "       4.1134528 , 4.5428428 , 4.56964823, 5.42303783, 5.48863725,\n",
       "       5.83905792, 7.08270894, 7.23516076, 7.23817857, 7.61886987,\n",
       "       7.66763254, 8.03237276, 8.05699453, 8.37892833, 8.38912792,\n",
       "       8.70264362, 9.31709083, 9.45194019, 9.52478839]) * s"
      ]
     },
     "execution_count": 12,
     "metadata": {},
     "output_type": "execute_result"
    }
   ],
   "source": [
    "np.sort(np.mod(spiketrains[0].times + 4.2*pq.s, 10*pq.s))"
   ]
  },
  {
   "cell_type": "markdown",
   "id": "69a909c2",
   "metadata": {},
   "source": [
    "https://neo.readthedocs.io/en/stable/core.html?highlight=spiketrain#example-spiketrain"
   ]
  },
  {
   "cell_type": "code",
   "execution_count": 13,
   "id": "f5f5ae6b",
   "metadata": {},
   "outputs": [
    {
     "data": {
      "text/plain": [
       "SpikeTrain"
      ]
     },
     "execution_count": 13,
     "metadata": {},
     "output_type": "execute_result"
    }
   ],
   "source": [
    "neo.SpikeTrain(np.sort(np.mod(spiketrains[0].times + 4.2*pq.s, 10*pq.s)), t_start=0*pq.s, t_stop=10*pq.s)\n",
    "\n"
   ]
  },
  {
   "cell_type": "code",
   "execution_count": 14,
   "id": "5cc658fd",
   "metadata": {},
   "outputs": [],
   "source": [
    "for i_st in range(10):\n",
    "    delay = (i_st*slope)*pq.s\n",
    "    spike_times = np.sort(np.mod(spiketrains[i_st].times + delay, t_stop))\n",
    "    spiketrains[i_st] = neo.SpikeTrain(spike_times, t_start=0*pq.s, t_stop=t_stop)"
   ]
  },
  {
   "cell_type": "code",
   "execution_count": 15,
   "id": "5e834692",
   "metadata": {},
   "outputs": [
    {
     "data": {
      "image/png": "[encoded data removed]",
      "text/plain": [
       "<Figure size 1500x700 with 1 Axes>"
      ]
     },
     "metadata": {},
     "output_type": "display_data"
    }
   ],
   "source": [
    "\n",
    "import matplotlib.pyplot as plt\n",
    "plt.figure(figsize=(15, 7))\n",
    "plt.eventplot([spiketrains[i].magnitude for i in range(len(spiketrains))], linelengths=0.75, color='black')\n",
    "plt.xlabel('Time (ms)', fontsize=16)\n",
    "plt.ylabel('Neuron')\n",
    "plt.title(\"Raster plot\");"
   ]
  },
  {
   "cell_type": "markdown",
   "id": "fcf629ff",
   "metadata": {},
   "source": [
    "All in one function:"
   ]
  },
  {
   "cell_type": "code",
   "execution_count": 16,
   "id": "79922ad6",
   "metadata": {},
   "outputs": [],
   "source": [
    "\n",
    "def generate_and_test(A_sync=A_sync, shift=shift, winlen=1, slope=slope, t_stop=t_stop):\n",
    "\n",
    "    A = [0]+[1.-A_sync]+[0]*8+[A_sync]\n",
    "    spiketrains = elephant.spike_train_generation.compound_poisson_process(\n",
    "                             rate=5*pq.Hz, A=A, shift=shift*pq.ms, t_stop=t_stop)\n",
    "    for i_st in range(10):\n",
    "        delay = (i_st*slope)*pq.s\n",
    "        spike_times = np.sort(np.mod(spiketrains[i_st].times + delay, t_stop))\n",
    "        spiketrains[i_st] = neo.SpikeTrain(spike_times, t_start=0*pq.s, t_stop=t_stop)\n",
    "\n",
    "    for i in range(90):\n",
    "        spiketrains.append(elephant.spike_train_generation.homogeneous_poisson_process(\n",
    "            rate=5*pq.Hz, t_stop=10*pq.s))\n",
    "    patterns = elephant.spade.spade(\n",
    "                                spiketrains=spiketrains, binsize=1*pq.ms, winlen=winlen, min_spikes=3,\n",
    "                                n_surr=100, dither=5*pq.ms,\n",
    "                                psr_param=[0,0,0],\n",
    "                                output_format='patterns')['patterns']\n",
    "    return patterns"
   ]
  },
  {
   "cell_type": "markdown",
   "id": "5488bfdb",
   "metadata": {},
   "source": [
    "\n",
    "* changing the synchrony probability to check when SPADE will begin to fail:\n"
   ]
  },
  {
   "cell_type": "code",
   "execution_count": 17,
   "id": "8bc9a171",
   "metadata": {},
   "outputs": [
    {
     "name": "stderr",
     "output_type": "stream",
     "text": [
      "/Users/laurentperrinet/opt/anaconda3/envs/brainhack/lib/python3.9/site-packages/elephant/spade.py:679: UserWarning: Optimized C implementation of FCA (fim.so/fim.pyd) not found in elephant/spade_src folder, or not compatible with this Python version. You are using the pure Python implementation of fast fca.\n",
      "  warnings.warn(\n"
     ]
    },
    {
     "name": "stdout",
     "output_type": "stream",
     "text": [
      "Time for data mining: 10.692577123641968\n"
     ]
    }
   ],
   "source": [
    "for slope_ in np.logspace(-1, 1, 10, base=10):\n",
    "    patterns = generate_and_test(slope=slope_)\n",
    "    print(slope_, patterns)"
   ]
  },
  {
   "cell_type": "code",
   "execution_count": null,
   "id": "8bc9a171",
   "metadata": {},
   "outputs": [],
   "source": [
    "for slope_ in np.logspace(-1, 1, 10, base=10):\n",
    "    patterns = generate_and_test(slope=slope_, winlen=10)\n",
    "    print(slope_, patterns)"
   ]
  }
 ],
 "metadata": {
  "kernelspec": {
   "display_name": "Python 3.9.13 ('brainhack')",
   "language": "python",
   "name": "python3"
  },
  "language_info": {
   "codemirror_mode": {
    "name": "ipython",
    "version": 3
   },
   "file_extension": ".py",
   "mimetype": "text/x-python",
   "name": "python",
   "nbconvert_exporter": "python",
   "pygments_lexer": "ipython3",
   "version": "3.9.13"
  },
  "vscode": {
   "interpreter": {
    "hash": "f76abcfae7407d101ef34ba86f468988314045e4e2c214982f718a8acd3606b2"
   }
  }
 },
 "nbformat": 4,
 "nbformat_minor": 5
}
