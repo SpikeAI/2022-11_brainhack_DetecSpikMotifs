{
 "cells": [
  {
   "cell_type": "markdown",
   "id": "4e607479",
   "metadata": {},
   "source": [
    "#  Spike PAtterns DEtection using SPADE\n"
   ]
  },
  {
   "cell_type": "code",
   "execution_count": 1,
   "id": "1c0163f5-b685-412d-b5c6-8ff1670e9998",
   "metadata": {},
   "outputs": [],
   "source": [
    "import numpy as np\n",
    "import quantities as pq\n",
    "import neo\n",
    "import elephant\n",
    "import viziphant\n",
    "np.random.seed(4542)"
   ]
  },
  {
   "cell_type": "markdown",
   "id": "5488bfdb",
   "metadata": {},
   "source": [
    "## introducing heterogeneous delays\n",
    "\n",
    "the function developed in the scan + a shift in time"
   ]
  },
  {
   "cell_type": "code",
   "execution_count": 2,
   "id": "717a2fc9",
   "metadata": {},
   "outputs": [],
   "source": [
    "\n",
    "A_sync = 0.02\n",
    "shift = 0.01\n",
    "A = [0]+[1.-A_sync]+[0]*8+[A_sync]\n",
    "spiketrains = elephant.spike_train_generation.compound_poisson_process(\n",
    "                             rate=5*pq.Hz, A=A, shift=shift*pq.s, t_stop=10*pq.s)\n",
    "                             \n"
   ]
  },
  {
   "cell_type": "markdown",
   "id": "fcf629ff",
   "metadata": {},
   "source": [
    "Add a shift:"
   ]
  },
  {
   "cell_type": "code",
   "execution_count": 3,
   "id": "1746b8cf",
   "metadata": {},
   "outputs": [
    {
     "data": {
      "text/plain": [
       "array([ 4.54268786,  4.56949328,  5.42288289,  5.48848231,  5.83890298,\n",
       "        7.082554  ,  7.23500582,  7.23802362,  7.61871493,  7.6674776 ,\n",
       "        8.03221782,  8.05683958,  8.37877339,  8.38897297,  8.70248868,\n",
       "        9.31693589,  9.45178525,  9.52463345, 10.5950124 , 10.70183048,\n",
       "       11.12921023, 11.18969509, 11.30194166, 11.35880212, 11.76574189,\n",
       "       11.98102997, 12.44154892, 12.51100792, 12.69858892, 12.9055502 ,\n",
       "       13.11660239, 13.17491733, 13.23408406, 13.23837955, 13.3545316 ,\n",
       "       13.59283235, 13.72926468, 13.81556317, 14.11329785]) * s"
      ]
     },
     "execution_count": 3,
     "metadata": {},
     "output_type": "execute_result"
    }
   ],
   "source": [
    "spiketrains[0].times + 4.2*pq.s"
   ]
  },
  {
   "cell_type": "markdown",
   "id": "fcf629ff",
   "metadata": {},
   "source": [
    "Wrap around time:"
   ]
  },
  {
   "cell_type": "code",
   "execution_count": 4,
   "id": "e2d1a6e7",
   "metadata": {},
   "outputs": [
    {
     "data": {
      "text/plain": [
       "array([0.5950124 , 0.70183048, 1.12921023, 1.18969509, 1.30194166,\n",
       "       1.35880212, 1.76574189, 1.98102997, 2.44154892, 2.51100792,\n",
       "       2.69858892, 2.9055502 , 3.11660239, 3.17491733, 3.23408406,\n",
       "       3.23837955, 3.3545316 , 3.59283235, 3.72926468, 3.81556317,\n",
       "       4.11329785, 4.54268786, 4.56949328, 5.42288289, 5.48848231,\n",
       "       5.83890298, 7.082554  , 7.23500582, 7.23802362, 7.61871493,\n",
       "       7.6674776 , 8.03221782, 8.05683958, 8.37877339, 8.38897297,\n",
       "       8.70248868, 9.31693589, 9.45178525, 9.52463345]) * s"
      ]
     },
     "execution_count": 4,
     "metadata": {},
     "output_type": "execute_result"
    }
   ],
   "source": [
    "np.sort(np.mod(spiketrains[0].times + 4.2*pq.s, 10*pq.s))"
   ]
  },
  {
   "cell_type": "markdown",
   "id": "fcf629ff",
   "metadata": {},
   "source": [
    "Sort in time:"
   ]
  },
  {
   "cell_type": "code",
   "execution_count": 5,
   "id": "29276eb8",
   "metadata": {},
   "outputs": [
    {
     "data": {
      "text/plain": [
       "array([0.5950124 , 0.70183048, 1.12921023, 1.18969509, 1.30194166,\n",
       "       1.35880212, 1.76574189, 1.98102997, 2.44154892, 2.51100792,\n",
       "       2.69858892, 2.9055502 , 3.11660239, 3.17491733, 3.23408406,\n",
       "       3.23837955, 3.3545316 , 3.59283235, 3.72926468, 3.81556317,\n",
       "       4.11329785, 4.54268786, 4.56949328, 5.42288289, 5.48848231,\n",
       "       5.83890298, 7.082554  , 7.23500582, 7.23802362, 7.61871493,\n",
       "       7.6674776 , 8.03221782, 8.05683958, 8.37877339, 8.38897297,\n",
       "       8.70248868, 9.31693589, 9.45178525, 9.52463345]) * s"
      ]
     },
     "execution_count": 5,
     "metadata": {},
     "output_type": "execute_result"
    }
   ],
   "source": [
    "np.sort(np.mod(spiketrains[0].times + 4.2*pq.s, 10*pq.s))"
   ]
  },
  {
   "cell_type": "markdown",
   "id": "69a909c2",
   "metadata": {},
   "source": [
    "https://neo.readthedocs.io/en/stable/core.html?highlight=spiketrain#example-spiketrain"
   ]
  },
  {
   "cell_type": "code",
   "execution_count": 6,
   "id": "f5f5ae6b",
   "metadata": {},
   "outputs": [
    {
     "data": {
      "text/plain": [
       "SpikeTrain"
      ]
     },
     "execution_count": 6,
     "metadata": {},
     "output_type": "execute_result"
    }
   ],
   "source": [
    "neo.SpikeTrain(np.sort(np.mod(spiketrains[0].times + 4.2*pq.s, 10*pq.s)), t_start=0*pq.s, t_stop=10*pq.s)\n",
    "\n"
   ]
  },
  {
   "cell_type": "code",
   "execution_count": 7,
   "id": "5cc658fd",
   "metadata": {},
   "outputs": [
    {
     "ename": "NameError",
     "evalue": "name 'slope' is not defined",
     "output_type": "error",
     "traceback": [
      "\u001b[0;31m---------------------------------------------------------------------------\u001b[0m",
      "\u001b[0;31mNameError\u001b[0m                                 Traceback (most recent call last)",
      "Cell \u001b[0;32mIn [7], line 2\u001b[0m\n\u001b[1;32m      1\u001b[0m \u001b[39mfor\u001b[39;00m i_st \u001b[39min\u001b[39;00m \u001b[39mrange\u001b[39m(\u001b[39m10\u001b[39m):\n\u001b[0;32m----> 2\u001b[0m     delay \u001b[39m=\u001b[39m (i_st\u001b[39m*\u001b[39mslope)\u001b[39m*\u001b[39mpq\u001b[39m.\u001b[39ms\n\u001b[1;32m      3\u001b[0m     spike_times \u001b[39m=\u001b[39m np\u001b[39m.\u001b[39msort(np\u001b[39m.\u001b[39mmod(spiketrains[i_st]\u001b[39m.\u001b[39mtimes \u001b[39m+\u001b[39m delay, t_stop))\n\u001b[1;32m      4\u001b[0m     spiketrains[i_st] \u001b[39m=\u001b[39m neo\u001b[39m.\u001b[39mSpikeTrain(spike_times, t_start\u001b[39m=\u001b[39m\u001b[39m0\u001b[39m\u001b[39m*\u001b[39mpq\u001b[39m.\u001b[39ms, t_stop\u001b[39m=\u001b[39mt_stop)\n",
      "\u001b[0;31mNameError\u001b[0m: name 'slope' is not defined"
     ]
    }
   ],
   "source": [
    "for i_st in range(10):\n",
    "    delay = (i_st*slope)*pq.s\n",
    "    spike_times = np.sort(np.mod(spiketrains[i_st].times + delay, t_stop))\n",
    "    spiketrains[i_st] = neo.SpikeTrain(spike_times, t_start=0*pq.s, t_stop=t_stop)"
   ]
  },
  {
   "cell_type": "code",
   "execution_count": null,
   "id": "5e834692",
   "metadata": {},
   "outputs": [],
   "source": [
    "\n",
    "import matplotlib.pyplot as plt\n",
    "plt.figure(figsize=(15, 7))\n",
    "plt.eventplot([spiketrains[i].magnitude for i in range(len(spiketrains))], linelengths=0.75, color='black')\n",
    "plt.xlabel('Time (ms)', fontsize=16)\n",
    "plt.ylabel('Neuron')\n",
    "plt.title(\"Raster plot\");"
   ]
  },
  {
   "cell_type": "markdown",
   "id": "fcf629ff",
   "metadata": {},
   "source": [
    "All in one function:"
   ]
  },
  {
   "cell_type": "markdown",
   "id": "fcf629ff",
   "metadata": {},
   "source": [
    "All in one function:"
   ]
  },
  {
   "cell_type": "code",
   "execution_count": null,
   "id": "79922ad6",
   "metadata": {},
   "outputs": [],
   "source": [
    "t_stop = 10*pq.s\n",
    "def generate_and_test(A_sync=A_sync, shift=shift, winlen=1, slope=1., t_stop=t_stop):\n",
    "\n",
    "    A = [0]+[1.-A_sync]+[0]*8+[A_sync]\n",
    "    spiketrains = elephant.spike_train_generation.compound_poisson_process(\n",
    "                             rate=5*pq.Hz, A=A, shift=shift*pq.s, t_stop=t_stop)\n",
    "    for i_st in range(10):\n",
    "        delay = (i_st*slope)*pq.s\n",
    "        spike_times = np.sort(np.mod(spiketrains[i_st].times + delay, t_stop))\n",
    "        spiketrains[i_st] = neo.SpikeTrain(spike_times, t_start=0*pq.s, t_stop=t_stop)\n",
    "\n",
    "    for i in range(90):\n",
    "        spiketrains.append(elephant.spike_train_generation.homogeneous_poisson_process(\n",
    "            rate=5*pq.Hz, t_stop=10*pq.s))\n",
    "    patterns = elephant.spade.spade(\n",
    "                                spiketrains=spiketrains, binsize=1*pq.ms, winlen=winlen, min_spikes=3,\n",
    "                                n_surr=100, dither=5*pq.ms,\n",
    "                                psr_param=[0,0,0],\n",
    "                                output_format='patterns')['patterns']\n",
    "    return patterns"
   ]
  },
  {
   "cell_type": "markdown",
   "id": "5488bfdb",
   "metadata": {},
   "source": [
    "\n",
    "* changing the synchrony probability to check when SPADE will begin to fail:\n"
   ]
  },
  {
   "cell_type": "code",
   "execution_count": null,
   "id": "8bc9a171",
   "metadata": {},
   "outputs": [],
   "source": [
    "for slope_ in np.logspace(-1, 1, 10, base=10):\n",
    "    patterns = generate_and_test(slope=slope_)\n",
    "    print(slope_, patterns)"
   ]
  },
  {
   "cell_type": "code",
   "execution_count": null,
   "id": "8bc9a171",
   "metadata": {},
   "outputs": [],
   "source": [
    "for slope_ in np.logspace(-1, 1, 10, base=10):\n",
    "    patterns = generate_and_test(slope=slope_, winlen=10)\n",
    "    print(slope_, patterns)"
   ]
  },
  {
   "cell_type": "code",
   "execution_count": null,
   "id": "f995db17",
   "metadata": {},
   "outputs": [],
   "source": []
  }
 ],
 "metadata": {
  "kernelspec": {
   "display_name": "Python 3.9.13 ('brainhack')",
   "language": "python",
   "name": "python3"
  },
  "language_info": {
   "codemirror_mode": {
    "name": "ipython",
    "version": 3
   },
   "file_extension": ".py",
   "mimetype": "text/x-python",
   "name": "python",
   "nbconvert_exporter": "python",
   "pygments_lexer": "ipython3",
   "version": "3.9.13"
  },
  "vscode": {
   "interpreter": {
    "hash": "f76abcfae7407d101ef34ba86f468988314045e4e2c214982f718a8acd3606b2"
   }
  }
 },
 "nbformat": 4,
 "nbformat_minor": 5
}
