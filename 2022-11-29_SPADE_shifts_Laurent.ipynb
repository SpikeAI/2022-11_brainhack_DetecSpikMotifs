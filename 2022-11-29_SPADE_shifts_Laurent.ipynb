{
 "cells": [
  {
   "cell_type": "code",
   "execution_count": 1,
   "id": "1e6ede3a-e8c0-4753-8bde-c5ac49d2d276",
   "metadata": {},
   "outputs": [
    {
     "name": "stdout",
     "output_type": "stream",
     "text": [
      "Requirement already satisfied: neo in /usr/local/lib/python3.10/site-packages (0.11.1)\n",
      "Requirement already satisfied: elephant in /usr/local/lib/python3.10/site-packages (0.11.2)\n",
      "Requirement already satisfied: viziphant in /usr/local/lib/python3.10/site-packages (0.2.0)\n",
      "Requirement already satisfied: quantities in /usr/local/lib/python3.10/site-packages (0.13.0)\n",
      "Requirement already satisfied: pip in /usr/local/lib/python3.10/site-packages (22.3.1)\n",
      "Requirement already satisfied: pyfim in /usr/local/lib/python3.10/site-packages (6.28)\n",
      "Requirement already satisfied: numpy>=1.18.5 in /usr/local/lib/python3.10/site-packages (from neo) (1.23.4)\n",
      "Requirement already satisfied: packaging in /usr/local/Cellar/sip/6.7.4/libexec/lib/python3.10/site-packages (from neo) (21.3)\n",
      "Requirement already satisfied: six>=1.10.0 in /usr/local/lib/python3.10/site-packages (from elephant) (1.16.0)\n",
      "Requirement already satisfied: tqdm in /usr/local/lib/python3.10/site-packages (from elephant) (4.64.1)\n",
      "Requirement already satisfied: scipy>=1.5.4 in /usr/local/lib/python3.10/site-packages (from elephant) (1.9.3)\n",
      "Requirement already satisfied: seaborn>=0.9.0 in /usr/local/lib/python3.10/site-packages (from viziphant) (0.12.1)\n",
      "Requirement already satisfied: matplotlib>=3.3.2 in /usr/local/lib/python3.10/site-packages (from viziphant) (3.6.0)\n",
      "Requirement already satisfied: contourpy>=1.0.1 in /usr/local/lib/python3.10/site-packages (from matplotlib>=3.3.2->viziphant) (1.0.5)\n",
      "Requirement already satisfied: fonttools>=4.22.0 in /usr/local/lib/python3.10/site-packages (from matplotlib>=3.3.2->viziphant) (4.37.1)\n",
      "Requirement already satisfied: pillow>=6.2.0 in /usr/local/lib/python3.10/site-packages (from matplotlib>=3.3.2->viziphant) (9.2.0)\n",
      "Requirement already satisfied: cycler>=0.10 in /usr/local/lib/python3.10/site-packages (from matplotlib>=3.3.2->viziphant) (0.11.0)\n",
      "Requirement already satisfied: python-dateutil>=2.7 in /usr/local/lib/python3.10/site-packages (from matplotlib>=3.3.2->viziphant) (2.8.2)\n",
      "Requirement already satisfied: kiwisolver>=1.0.1 in /usr/local/lib/python3.10/site-packages (from matplotlib>=3.3.2->viziphant) (1.4.4)\n",
      "Requirement already satisfied: pyparsing>=2.2.1 in /usr/local/Cellar/sip/6.7.4/libexec/lib/python3.10/site-packages (from matplotlib>=3.3.2->viziphant) (3.0.9)\n",
      "Requirement already satisfied: pandas>=0.25 in /usr/local/lib/python3.10/site-packages (from seaborn>=0.9.0->viziphant) (1.5.1)\n",
      "Requirement already satisfied: pytz>=2020.1 in /usr/local/lib/python3.10/site-packages (from pandas>=0.25->seaborn>=0.9.0->viziphant) (2022.2.1)\n",
      "Note: you may need to restart the kernel to use updated packages.\n"
     ]
    }
   ],
   "source": [
    "%pip install --upgrade neo elephant viziphant quantities pip pyfim"
   ]
  },
  {
   "cell_type": "markdown",
   "id": "4e607479",
   "metadata": {},
   "source": [
    "#  Spike PAtterns DEtection using SPADE\n"
   ]
  },
  {
   "cell_type": "code",
   "execution_count": 2,
   "id": "1c0163f5-b685-412d-b5c6-8ff1670e9998",
   "metadata": {},
   "outputs": [],
   "source": [
    "import numpy as np\n",
    "import quantities as pq\n",
    "import neo\n",
    "import elephant\n",
    "import viziphant\n",
    "np.random.seed(4542)"
   ]
  },
  {
   "cell_type": "markdown",
   "id": "5488bfdb",
   "metadata": {},
   "source": [
    "## introducing heterogeneous delays\n",
    "\n",
    "the function developed in the scan"
   ]
  },
  {
   "cell_type": "code",
   "execution_count": 3,
   "id": "717a2fc9",
   "metadata": {},
   "outputs": [],
   "source": [
    "\n",
    "A_sync = 0.02\n",
    "shift = 0.01\n",
    "\n",
    "def generate_and_test(A_sync=A_sync, shift=shift):\n",
    "    A = [0]+[1.-A_sync]+[0]*8+[A_sync]\n",
    "    spiketrains = elephant.spike_train_generation.compound_poisson_process(\n",
    "                             rate=5*pq.Hz, A=A, shift=shift*pq.s, t_stop=10*pq.s)\n",
    "    for i in range(90):\n",
    "        spiketrains.append(elephant.spike_train_generation.homogeneous_poisson_process(\n",
    "            rate=5*pq.Hz, t_stop=10*pq.s))\n",
    "    patterns = elephant.spade.spade(\n",
    "                                spiketrains=spiketrains, binsize=1*pq.ms, winlen=1, min_spikes=3,\n",
    "                                n_surr=100,dither=5*pq.ms,\n",
    "                                psr_param=[0,0,0],\n",
    "                                output_format='patterns')['patterns']\n",
    "    return patterns"
   ]
  },
  {
   "cell_type": "markdown",
   "id": "5488bfdb",
   "metadata": {},
   "source": [
    "\n",
    "* changing the synchrony probability to check when SPADE will begin to fail:\n"
   ]
  },
  {
   "cell_type": "code",
   "execution_count": 4,
   "id": "8bc9a171",
   "metadata": {},
   "outputs": [
    {
     "name": "stderr",
     "output_type": "stream",
     "text": [
      "/usr/local/lib/python3.10/site-packages/elephant/spade.py:679: UserWarning: Optimized C implementation of FCA (fim.so/fim.pyd) not found in elephant/spade_src folder, or not compatible with this Python version. You are using the pure Python implementation of fast fca.\n",
      "  warnings.warn(\n"
     ]
    }
   ],
   "source": [
    "for A_sync_ in np.logspace(-2, -.5, 10):\n",
    "    patterns = generate_and_test(A_sync=A_sync_, shift=shift)\n",
    "    print(patterns)"
   ]
  }
 ],
 "metadata": {
  "kernelspec": {
   "display_name": "Python 3.10.8 64-bit",
   "language": "python",
   "name": "python3"
  },
  "language_info": {
   "codemirror_mode": {
    "name": "ipython",
    "version": 3
   },
   "file_extension": ".py",
   "mimetype": "text/x-python",
   "name": "python",
   "nbconvert_exporter": "python",
   "pygments_lexer": "ipython3",
   "version": "3.10.8"
  },
  "vscode": {
   "interpreter": {
    "hash": "949777d72b0d2535278d3dc13498b2535136f6dfe0678499012e853ee9abcab1"
   }
  }
 },
 "nbformat": 4,
 "nbformat_minor": 5
}
