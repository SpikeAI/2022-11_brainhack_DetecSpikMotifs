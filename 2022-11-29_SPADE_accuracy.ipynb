{
 "cells": [
  {
   "cell_type": "markdown",
   "id": "4e607479",
   "metadata": {},
   "source": [
    "#  Spike PAtterns DEtection using SPADE\n"
   ]
  },
  {
   "cell_type": "code",
   "execution_count": 1,
   "id": "1c0163f5-b685-412d-b5c6-8ff1670e9998",
   "metadata": {},
   "outputs": [],
   "source": [
    "import numpy as np\n",
    "import quantities as pq\n",
    "import neo\n",
    "import elephant\n",
    "import viziphant\n",
    "np.random.seed(4542)"
   ]
  },
  {
   "cell_type": "markdown",
   "id": "5488bfdb",
   "metadata": {},
   "source": [
    "## computing accuracy\n",
    "\n",
    "the function developed in the scan + a shift in time"
   ]
  },
  {
   "cell_type": "code",
   "execution_count": 2,
   "id": "717a2fc9",
   "metadata": {},
   "outputs": [],
   "source": [
    "t_stop = 10*pq.s\n",
    "slope = 1.\n",
    "A_sync = 0.05\n",
    "shift = 0.0\n",
    "A = [0]+[1.-A_sync]+[0]*8+[A_sync]\n",
    "spiketrains = elephant.spike_train_generation.compound_poisson_process(\n",
    "                             rate=5*pq.Hz, A=A, shift=shift*pq.ms, t_stop=10*pq.s)\n",
    "                             \n"
   ]
  },
  {
   "cell_type": "markdown",
   "id": "fcf629ff",
   "metadata": {},
   "source": [
    "Add a shift:"
   ]
  },
  {
   "cell_type": "code",
   "execution_count": 3,
   "id": "1746b8cf",
   "metadata": {},
   "outputs": [
    {
     "data": {
      "text/plain": [
       "{0.010336536702265134,\n",
       " 2.306153249870878,\n",
       " 2.3244673050892177,\n",
       " 3.0204975456785346,\n",
       " 3.351244642640878,\n",
       " 4.075165225675521,\n",
       " 4.838414228441322,\n",
       " 5.744525279457682,\n",
       " 6.028529977645755,\n",
       " 6.543172175511355,\n",
       " 8.164216241659327}"
      ]
     },
     "execution_count": 3,
     "metadata": {},
     "output_type": "execute_result"
    }
   ],
   "source": [
    "def ground_truth_spike_synchronous(spiketrains):\n",
    "    # Function to find the real position of the pattern\n",
    "    # Works only for synchronus activity, when ALL neurons \n",
    "    # are activated at the same time\n",
    "    # INPUT : spike trains without the added noise\n",
    "    dict_spiketrains = {}\n",
    "    # remove the quantity (s) of the spiketrains array\n",
    "    for neurons in range(len(spiketrains)):\n",
    "        a = [float(x) for x in spiketrains[neurons]]\n",
    "        dict_spiketrains[str(neurons)] = a\n",
    "\n",
    "    list_keys=list(dict_spiketrains.keys())\n",
    "    common_spikes = set(dict_spiketrains.get(list_keys[0])).intersection(dict_spiketrains.get(list_keys[1]))\n",
    "    for key in list_keys[1:-1]:\n",
    "        num_key=int(key)\n",
    "        common_spikes = set(common_spikes).intersection(dict_spiketrains.get(str(num_key+1)))\n",
    "\n",
    "    return common_spikes\n",
    "    \n",
    "ground_truth_spike_synchronous(spiketrains)"
   ]
  },
  {
   "cell_type": "code",
   "execution_count": 4,
   "id": "5e834692",
   "metadata": {},
   "outputs": [
    {
     "data": {
      "image/png": "[encoded data removed]",
      "text/plain": [
       "<Figure size 1500x700 with 1 Axes>"
      ]
     },
     "metadata": {},
     "output_type": "display_data"
    }
   ],
   "source": [
    "\n",
    "import matplotlib.pyplot as plt\n",
    "plt.figure(figsize=(15, 7))\n",
    "plt.eventplot([spiketrains[i].magnitude for i in range(len(spiketrains))], linelengths=0.75, color='black')\n",
    "plt.xlabel('Time (ms)', fontsize=16)\n",
    "plt.ylabel('Neuron')\n",
    "plt.title(\"Raster plot\");"
   ]
  },
  {
   "cell_type": "markdown",
   "id": "fcf629ff",
   "metadata": {},
   "source": [
    "All in one function:"
   ]
  },
  {
   "cell_type": "code",
   "execution_count": 5,
   "id": "79922ad6",
   "metadata": {},
   "outputs": [],
   "source": [
    "\n",
    "A_sync = 0.02\n",
    "shift = 0.\n",
    "\n",
    "def generate_and_test(A_sync=A_sync, shift=shift):\n",
    "    A = [0]+[1.-A_sync]+[0]*8+[A_sync]\n",
    "    spiketrains = elephant.spike_train_generation.compound_poisson_process(\n",
    "                             rate=5*pq.Hz, A=A, shift=shift*pq.ms, t_stop=10*pq.s)\n",
    "    common_spikes =  ground_truth_spike_synchronous(spiketrains)\n",
    "\n",
    "    for i in range(90):\n",
    "        spiketrains.append(elephant.spike_train_generation.homogeneous_poisson_process(\n",
    "            rate=5*pq.Hz, t_stop=10*pq.s))\n",
    "    patterns = elephant.spade.spade(\n",
    "                                spiketrains=spiketrains, binsize=1*pq.ms, winlen=1, min_spikes=3,\n",
    "                                n_surr=100,dither=5*pq.ms,\n",
    "                                psr_param=[0,0,0],\n",
    "                                output_format='patterns')['patterns']\n",
    "    \n",
    "    idx_detect = pattern[0].get('windows_ids')\n",
    "    common_spikes = np.array(list(common_spikes))*1000\n",
    "    idx_real = common_spikes.astype(int)\n",
    "\n",
    "    tp = len(list(set(idx_detect).intersection(real_idx)))\n",
    "    fp = len(idx_detect) - tp\n",
    "    fn = len(real_idx) - tp\n",
    "\n",
    "    return tp, fp, fn"
   ]
  },
  {
   "cell_type": "markdown",
   "id": "5488bfdb",
   "metadata": {},
   "source": [
    "\n",
    "* changing the synchrony probability to check when SPADE will begin to fail:\n"
   ]
  },
  {
   "cell_type": "code",
   "execution_count": 6,
   "id": "8bc9a171",
   "metadata": {},
   "outputs": [
    {
     "name": "stderr",
     "output_type": "stream",
     "text": [
      "/Users/laurentperrinet/opt/anaconda3/envs/brainhack/lib/python3.9/site-packages/elephant/spade.py:679: UserWarning: Optimized C implementation of FCA (fim.so/fim.pyd) not found in elephant/spade_src folder, or not compatible with this Python version. You are using the pure Python implementation of fast fca.\n",
      "  warnings.warn(\n"
     ]
    },
    {
     "name": "stdout",
     "output_type": "stream",
     "text": [
      "Time for data mining: 11.420428037643433\n"
     ]
    }
   ],
   "source": [
    "tp, fp, fn = generate_and_test()\n",
    "tp, fp, fn"
   ]
  }
 ],
 "metadata": {
  "kernelspec": {
   "display_name": "Python 3.9.13 ('brainhack')",
   "language": "python",
   "name": "python3"
  },
  "language_info": {
   "codemirror_mode": {
    "name": "ipython",
    "version": 3
   },
   "file_extension": ".py",
   "mimetype": "text/x-python",
   "name": "python",
   "nbconvert_exporter": "python",
   "pygments_lexer": "ipython3",
   "version": "3.9.13"
  },
  "vscode": {
   "interpreter": {
    "hash": "f76abcfae7407d101ef34ba86f468988314045e4e2c214982f718a8acd3606b2"
   }
  }
 },
 "nbformat": 4,
 "nbformat_minor": 5
}
