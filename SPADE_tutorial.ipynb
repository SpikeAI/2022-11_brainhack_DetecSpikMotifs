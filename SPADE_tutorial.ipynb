{
 "cells": [
  {
   "cell_type": "code",
   "execution_count": 1,
   "id": "1e6ede3a-e8c0-4753-8bde-c5ac49d2d276",
   "metadata": {},
   "outputs": [
    {
     "name": "stdout",
     "output_type": "stream",
     "text": [
      "Requirement already satisfied: neo in /usr/local/anaconda3/lib/python3.8/site-packages (0.10.0)\n",
      "Requirement already satisfied: elephant in /usr/local/anaconda3/lib/python3.8/site-packages (0.11.2)\n",
      "Requirement already satisfied: viziphant in /usr/local/anaconda3/lib/python3.8/site-packages (0.2.0)\n",
      "Requirement already satisfied: numpy>=1.16.1 in /usr/local/anaconda3/lib/python3.8/site-packages (from neo) (1.21.1)\n",
      "Requirement already satisfied: quantities>=0.12.1 in /usr/local/anaconda3/lib/python3.8/site-packages (from neo) (0.12.4)\n",
      "Requirement already satisfied: scipy>=1.5.4 in /usr/local/anaconda3/lib/python3.8/site-packages (from elephant) (1.7.1)\n",
      "Requirement already satisfied: tqdm in /usr/local/anaconda3/lib/python3.8/site-packages (from elephant) (4.62.0)\n",
      "Requirement already satisfied: six>=1.10.0 in /usr/local/anaconda3/lib/python3.8/site-packages (from elephant) (1.16.0)\n",
      "Requirement already satisfied: matplotlib>=3.3.2 in /usr/local/anaconda3/lib/python3.8/site-packages (from viziphant) (3.4.2)\n",
      "Requirement already satisfied: seaborn>=0.9.0 in /usr/local/anaconda3/lib/python3.8/site-packages (from viziphant) (0.11.1)\n",
      "Requirement already satisfied: cycler>=0.10 in /usr/local/anaconda3/lib/python3.8/site-packages (from matplotlib>=3.3.2->viziphant) (0.10.0)\n",
      "Requirement already satisfied: python-dateutil>=2.7 in /usr/local/anaconda3/lib/python3.8/site-packages (from matplotlib>=3.3.2->viziphant) (2.8.2)\n",
      "Requirement already satisfied: pillow>=6.2.0 in /usr/local/anaconda3/lib/python3.8/site-packages (from matplotlib>=3.3.2->viziphant) (8.3.1)\n",
      "Requirement already satisfied: kiwisolver>=1.0.1 in /usr/local/anaconda3/lib/python3.8/site-packages (from matplotlib>=3.3.2->viziphant) (1.3.1)\n",
      "Requirement already satisfied: pyparsing>=2.2.1 in /usr/local/anaconda3/lib/python3.8/site-packages (from matplotlib>=3.3.2->viziphant) (2.4.7)\n",
      "Requirement already satisfied: pandas>=0.23 in /usr/local/anaconda3/lib/python3.8/site-packages (from seaborn>=0.9.0->viziphant) (1.3.1)\n",
      "Requirement already satisfied: pytz>=2017.3 in /usr/local/anaconda3/lib/python3.8/site-packages (from pandas>=0.23->seaborn>=0.9.0->viziphant) (2021.1)\n"
     ]
    }
   ],
   "source": [
    "!python3 -m pip install --user neo elephant viziphant"
   ]
  },
  {
   "cell_type": "markdown",
   "id": "ba513d84-e9f9-48bd-a613-96dab228c19d",
   "metadata": {},
   "source": [
    "# SPADE tutorial\n",
    "## Generate correlated data"
   ]
  },
  {
   "cell_type": "code",
   "execution_count": 2,
   "id": "1c0163f5-b685-412d-b5c6-8ff1670e9998",
   "metadata": {},
   "outputs": [],
   "source": [
    "import numpy as np\n",
    "import quantities as pq\n",
    "import neo\n",
    "import elephant\n",
    "import viziphant\n",
    "np.random.seed(4542)"
   ]
  },
  {
   "cell_type": "code",
   "execution_count": 3,
   "id": "c9206ad9-0b99-44ae-b0e2-dbd008fcce03",
   "metadata": {},
   "outputs": [
    {
     "data": {
      "text/plain": [
       "10"
      ]
     },
     "execution_count": 3,
     "metadata": {},
     "output_type": "execute_result"
    }
   ],
   "source": [
    "spiketrains = elephant.spike_train_generation.compound_poisson_process(\n",
    "   rate=5*pq.Hz, A=[0]+[0.98]+[0]*8+[0.02], t_stop=10*pq.s)\n",
    "len(spiketrains)"
   ]
  },
  {
   "cell_type": "code",
   "execution_count": 4,
   "id": "fdf73f44-d49f-444c-ad55-e892624b5702",
   "metadata": {},
   "outputs": [],
   "source": [
    "for i in range(90):\n",
    "    spiketrains.append(elephant.spike_train_generation.homogeneous_poisson_process(\n",
    "        rate=5*pq.Hz, t_stop=10*pq.s))"
   ]
  },
  {
   "cell_type": "code",
   "execution_count": 9,
   "id": "06a9237c-85ff-46aa-b742-4bf97a31404b",
   "metadata": {},
   "outputs": [
    {
     "name": "stdout",
     "output_type": "stream",
     "text": [
      "spiketrain_0 type is <class 'neo.core.spiketrain.SpikeTrain'>\n",
      "spiketrains_last type is <class 'neo.core.spiketrain.SpikeTrain'>\n"
     ]
    }
   ],
   "source": [
    "print(\"spiketrain_0 type is\", type(spiketrains[0]))\n",
    "print(\"spiketrains_last type is\", type(spiketrains[-1]))"
   ]
  },
  {
   "cell_type": "code",
   "execution_count": 11,
   "id": "6e4e1b4d-47ea-476f-9875-8c6bf13037e8",
   "metadata": {},
   "outputs": [
    {
     "name": "stdout",
     "output_type": "stream",
     "text": [
      "spiketrain_0 has 39 spikes:\n",
      "  t_start: 0.0 s\n",
      "  t_stop: 10.0 s\n",
      "  spike times: [0.3428428  0.36964823 1.22303783 1.28863725 1.63905792 2.88270894\n",
      " 3.03516076 3.03817857 3.41886987 3.46763254 3.83237276 3.85699453\n",
      " 4.17892833 4.18912792 4.50264362 5.11709083 5.25194019 5.32478839\n",
      " 6.39516735 6.50198542 6.92936517 6.98985003 7.10209661 7.15895706\n",
      " 7.56589684 7.78118491 8.24170386 8.31116287 8.49874386 8.70570514\n",
      " 8.91675734 8.97507227 9.03423901 9.03853449 9.15468654 9.39298729\n",
      " 9.52941963 9.61571811 9.9134528 ] s\n"
     ]
    }
   ],
   "source": [
    "print(f\"spiketrain_0 has {len(spiketrains[0])} spikes:\")\n",
    "print(\"  t_start:\", spiketrains[0].t_start)\n",
    "print(\"  t_stop:\", spiketrains[0].t_stop)\n",
    "print(\"  spike times:\", spiketrains[0].times)"
   ]
  },
  {
   "cell_type": "code",
   "execution_count": 17,
   "id": "459d206e-319e-4463-8b74-3d9580ff5ece",
   "metadata": {},
   "outputs": [
    {
     "data": {
      "image/png": "[encoded data removed]",
      "text/plain": [
       "<Figure size 1080x504 with 1 Axes>"
      ]
     },
     "metadata": {
      "needs_background": "light"
     },
     "output_type": "display_data"
    }
   ],
   "source": [
    "import matplotlib.pyplot as plt\n",
    "plt.figure(figsize=(15, 7))\n",
    "plt.eventplot([spiketrains[i].magnitude for i in range(len(spiketrains))], linelengths=0.75, color='black')\n",
    "plt.xlabel('Time (ms)', fontsize=16)\n",
    "plt.ylabel('Neuron')\n",
    "plt.title(\"Raster plot\");"
   ]
  },
  {
   "cell_type": "markdown",
   "id": "8f354e41-742c-4101-9ce8-0e7bf94ad0d7",
   "metadata": {},
   "source": [
    "## Mining patterns with SPADE "
   ]
  },
  {
   "cell_type": "code",
   "execution_count": 5,
   "id": "59482683-e0b6-46fe-be2f-31dad246b199",
   "metadata": {},
   "outputs": [
    {
     "name": "stderr",
     "output_type": "stream",
     "text": [
      "/usr/local/anaconda3/lib/python3.8/site-packages/elephant/spade.py:679: UserWarning: Optimized C implementation of FCA (fim.so/fim.pyd) not found in elephant/spade_src folder, or not compatible with this Python version. You are using the pure Python implementation of fast fca.\n",
      "  warnings.warn(\n"
     ]
    },
    {
     "ename": "KeyboardInterrupt",
     "evalue": "",
     "output_type": "error",
     "traceback": [
      "\u001b[0;31m---------------------------------------------------------------------------\u001b[0m",
      "\u001b[0;31mKeyboardInterrupt\u001b[0m                         Traceback (most recent call last)",
      "\u001b[0;32m/var/folders/c0/lpsp1b8964g8z8vcc8rps0b00000gn/T/ipykernel_3044/2884779028.py\u001b[0m in \u001b[0;36m<module>\u001b[0;34m\u001b[0m\n\u001b[0;32m----> 1\u001b[0;31m patterns = elephant.spade.spade(\n\u001b[0m\u001b[1;32m      2\u001b[0m     \u001b[0mspiketrains\u001b[0m\u001b[0;34m=\u001b[0m\u001b[0mspiketrains\u001b[0m\u001b[0;34m,\u001b[0m \u001b[0mbinsize\u001b[0m\u001b[0;34m=\u001b[0m\u001b[0;36m1\u001b[0m\u001b[0;34m*\u001b[0m\u001b[0mpq\u001b[0m\u001b[0;34m.\u001b[0m\u001b[0mms\u001b[0m\u001b[0;34m,\u001b[0m \u001b[0mwinlen\u001b[0m\u001b[0;34m=\u001b[0m\u001b[0;36m1\u001b[0m\u001b[0;34m,\u001b[0m \u001b[0mmin_spikes\u001b[0m\u001b[0;34m=\u001b[0m\u001b[0;36m3\u001b[0m\u001b[0;34m,\u001b[0m\u001b[0;34m\u001b[0m\u001b[0;34m\u001b[0m\u001b[0m\n\u001b[1;32m      3\u001b[0m     \u001b[0mn_surr\u001b[0m\u001b[0;34m=\u001b[0m\u001b[0;36m100\u001b[0m\u001b[0;34m,\u001b[0m\u001b[0mdither\u001b[0m\u001b[0;34m=\u001b[0m\u001b[0;36m5\u001b[0m\u001b[0;34m*\u001b[0m\u001b[0mpq\u001b[0m\u001b[0;34m.\u001b[0m\u001b[0mms\u001b[0m\u001b[0;34m,\u001b[0m\u001b[0;34m\u001b[0m\u001b[0;34m\u001b[0m\u001b[0m\n\u001b[1;32m      4\u001b[0m     \u001b[0mpsr_param\u001b[0m\u001b[0;34m=\u001b[0m\u001b[0;34m[\u001b[0m\u001b[0;36m0\u001b[0m\u001b[0;34m,\u001b[0m\u001b[0;36m0\u001b[0m\u001b[0;34m,\u001b[0m\u001b[0;36m0\u001b[0m\u001b[0;34m]\u001b[0m\u001b[0;34m,\u001b[0m\u001b[0;34m\u001b[0m\u001b[0;34m\u001b[0m\u001b[0m\n\u001b[1;32m      5\u001b[0m     output_format='patterns')['patterns']\n",
      "\u001b[0;32m/usr/local/anaconda3/lib/python3.8/site-packages/elephant/utils.py\u001b[0m in \u001b[0;36mwrapper\u001b[0;34m(*args, **kwargs)\u001b[0m\n\u001b[1;32m     78\u001b[0m         \u001b[0;32mdef\u001b[0m \u001b[0mwrapper\u001b[0m\u001b[0;34m(\u001b[0m\u001b[0;34m*\u001b[0m\u001b[0margs\u001b[0m\u001b[0;34m,\u001b[0m \u001b[0;34m**\u001b[0m\u001b[0mkwargs\u001b[0m\u001b[0;34m)\u001b[0m\u001b[0;34m:\u001b[0m\u001b[0;34m\u001b[0m\u001b[0;34m\u001b[0m\u001b[0m\n\u001b[1;32m     79\u001b[0m             \u001b[0m_rename_kwargs\u001b[0m\u001b[0;34m(\u001b[0m\u001b[0mfunc\u001b[0m\u001b[0;34m.\u001b[0m\u001b[0m__name__\u001b[0m\u001b[0;34m,\u001b[0m \u001b[0mkwargs\u001b[0m\u001b[0;34m,\u001b[0m \u001b[0maliases\u001b[0m\u001b[0;34m)\u001b[0m\u001b[0;34m\u001b[0m\u001b[0;34m\u001b[0m\u001b[0m\n\u001b[0;32m---> 80\u001b[0;31m             \u001b[0;32mreturn\u001b[0m \u001b[0mfunc\u001b[0m\u001b[0;34m(\u001b[0m\u001b[0;34m*\u001b[0m\u001b[0margs\u001b[0m\u001b[0;34m,\u001b[0m \u001b[0;34m**\u001b[0m\u001b[0mkwargs\u001b[0m\u001b[0;34m)\u001b[0m\u001b[0;34m\u001b[0m\u001b[0;34m\u001b[0m\u001b[0m\n\u001b[0m\u001b[1;32m     81\u001b[0m \u001b[0;34m\u001b[0m\u001b[0m\n\u001b[1;32m     82\u001b[0m         \u001b[0;32mreturn\u001b[0m \u001b[0mwrapper\u001b[0m\u001b[0;34m\u001b[0m\u001b[0;34m\u001b[0m\u001b[0m\n",
      "\u001b[0;32m/usr/local/anaconda3/lib/python3.8/site-packages/elephant/spade.py\u001b[0m in \u001b[0;36mspade\u001b[0;34m(spiketrains, bin_size, winlen, min_spikes, min_occ, max_spikes, max_occ, min_neu, approx_stab_pars, n_surr, dither, spectrum, alpha, stat_corr, surr_method, psr_param, output_format, **surr_kwargs)\u001b[0m\n\u001b[1;32m    349\u001b[0m     \u001b[0;32mif\u001b[0m \u001b[0mrank\u001b[0m \u001b[0;34m==\u001b[0m \u001b[0;36m0\u001b[0m \u001b[0;32mor\u001b[0m \u001b[0mcompute_stability\u001b[0m\u001b[0;34m:\u001b[0m\u001b[0;34m\u001b[0m\u001b[0;34m\u001b[0m\u001b[0m\n\u001b[1;32m    350\u001b[0m         \u001b[0;31m# Mine the spiketrains for extraction of concepts\u001b[0m\u001b[0;34m\u001b[0m\u001b[0;34m\u001b[0m\u001b[0;34m\u001b[0m\u001b[0m\n\u001b[0;32m--> 351\u001b[0;31m         concepts, rel_matrix = concepts_mining(\n\u001b[0m\u001b[1;32m    352\u001b[0m             \u001b[0mspiketrains\u001b[0m\u001b[0;34m,\u001b[0m \u001b[0mbin_size\u001b[0m\u001b[0;34m,\u001b[0m \u001b[0mwinlen\u001b[0m\u001b[0;34m,\u001b[0m \u001b[0mmin_spikes\u001b[0m\u001b[0;34m=\u001b[0m\u001b[0mmin_spikes\u001b[0m\u001b[0;34m,\u001b[0m\u001b[0;34m\u001b[0m\u001b[0;34m\u001b[0m\u001b[0m\n\u001b[1;32m    353\u001b[0m             \u001b[0mmin_occ\u001b[0m\u001b[0;34m=\u001b[0m\u001b[0mmin_occ\u001b[0m\u001b[0;34m,\u001b[0m \u001b[0mmax_spikes\u001b[0m\u001b[0;34m=\u001b[0m\u001b[0mmax_spikes\u001b[0m\u001b[0;34m,\u001b[0m \u001b[0mmax_occ\u001b[0m\u001b[0;34m=\u001b[0m\u001b[0mmax_occ\u001b[0m\u001b[0;34m,\u001b[0m\u001b[0;34m\u001b[0m\u001b[0;34m\u001b[0m\u001b[0m\n",
      "\u001b[0;32m/usr/local/anaconda3/lib/python3.8/site-packages/elephant/utils.py\u001b[0m in \u001b[0;36mwrapper\u001b[0;34m(*args, **kwargs)\u001b[0m\n\u001b[1;32m     78\u001b[0m         \u001b[0;32mdef\u001b[0m \u001b[0mwrapper\u001b[0m\u001b[0;34m(\u001b[0m\u001b[0;34m*\u001b[0m\u001b[0margs\u001b[0m\u001b[0;34m,\u001b[0m \u001b[0;34m**\u001b[0m\u001b[0mkwargs\u001b[0m\u001b[0;34m)\u001b[0m\u001b[0;34m:\u001b[0m\u001b[0;34m\u001b[0m\u001b[0;34m\u001b[0m\u001b[0m\n\u001b[1;32m     79\u001b[0m             \u001b[0m_rename_kwargs\u001b[0m\u001b[0;34m(\u001b[0m\u001b[0mfunc\u001b[0m\u001b[0;34m.\u001b[0m\u001b[0m__name__\u001b[0m\u001b[0;34m,\u001b[0m \u001b[0mkwargs\u001b[0m\u001b[0;34m,\u001b[0m \u001b[0maliases\u001b[0m\u001b[0;34m)\u001b[0m\u001b[0;34m\u001b[0m\u001b[0;34m\u001b[0m\u001b[0m\n\u001b[0;32m---> 80\u001b[0;31m             \u001b[0;32mreturn\u001b[0m \u001b[0mfunc\u001b[0m\u001b[0;34m(\u001b[0m\u001b[0;34m*\u001b[0m\u001b[0margs\u001b[0m\u001b[0;34m,\u001b[0m \u001b[0;34m**\u001b[0m\u001b[0mkwargs\u001b[0m\u001b[0;34m)\u001b[0m\u001b[0;34m\u001b[0m\u001b[0;34m\u001b[0m\u001b[0m\n\u001b[0m\u001b[1;32m     81\u001b[0m \u001b[0;34m\u001b[0m\u001b[0m\n\u001b[1;32m     82\u001b[0m         \u001b[0;32mreturn\u001b[0m \u001b[0mwrapper\u001b[0m\u001b[0;34m\u001b[0m\u001b[0;34m\u001b[0m\u001b[0m\n",
      "\u001b[0;32m/usr/local/anaconda3/lib/python3.8/site-packages/elephant/spade.py\u001b[0m in \u001b[0;36mconcepts_mining\u001b[0;34m(spiketrains, bin_size, winlen, min_spikes, min_occ, max_spikes, max_occ, min_neu, report)\u001b[0m\n\u001b[1;32m    683\u001b[0m         'of fast fca.')\n\u001b[1;32m    684\u001b[0m     \u001b[0;31m# Return output\u001b[0m\u001b[0;34m\u001b[0m\u001b[0;34m\u001b[0m\u001b[0;34m\u001b[0m\u001b[0m\n\u001b[0;32m--> 685\u001b[0;31m     mining_results = _fast_fca(\n\u001b[0m\u001b[1;32m    686\u001b[0m         \u001b[0mcontext\u001b[0m\u001b[0;34m,\u001b[0m\u001b[0;34m\u001b[0m\u001b[0;34m\u001b[0m\u001b[0m\n\u001b[1;32m    687\u001b[0m         \u001b[0mmin_c\u001b[0m\u001b[0;34m=\u001b[0m\u001b[0mmin_occ\u001b[0m\u001b[0;34m,\u001b[0m\u001b[0;34m\u001b[0m\u001b[0;34m\u001b[0m\u001b[0m\n",
      "\u001b[0;32m/usr/local/anaconda3/lib/python3.8/site-packages/elephant/spade.py\u001b[0m in \u001b[0;36m_fast_fca\u001b[0;34m(context, min_c, min_z, max_z, max_c, report, winlen, min_neu)\u001b[0m\n\u001b[1;32m   1146\u001b[0m     \u001b[0;31m# Mining the spiketrains with fast fca algorithm\u001b[0m\u001b[0;34m\u001b[0m\u001b[0;34m\u001b[0m\u001b[0;34m\u001b[0m\u001b[0m\n\u001b[1;32m   1147\u001b[0m     \u001b[0mfca_out\u001b[0m \u001b[0;34m=\u001b[0m \u001b[0mfast_fca\u001b[0m\u001b[0;34m.\u001b[0m\u001b[0mFormalConcepts\u001b[0m\u001b[0;34m(\u001b[0m\u001b[0mcontext\u001b[0m\u001b[0;34m)\u001b[0m\u001b[0;34m\u001b[0m\u001b[0;34m\u001b[0m\u001b[0m\n\u001b[0;32m-> 1148\u001b[0;31m     \u001b[0mfca_out\u001b[0m\u001b[0;34m.\u001b[0m\u001b[0mcomputeLattice\u001b[0m\u001b[0;34m(\u001b[0m\u001b[0;34m)\u001b[0m\u001b[0;34m\u001b[0m\u001b[0;34m\u001b[0m\u001b[0m\n\u001b[0m\u001b[1;32m   1149\u001b[0m     \u001b[0mfca_concepts\u001b[0m \u001b[0;34m=\u001b[0m \u001b[0mfca_out\u001b[0m\u001b[0;34m.\u001b[0m\u001b[0mconcepts\u001b[0m\u001b[0;34m\u001b[0m\u001b[0;34m\u001b[0m\u001b[0m\n\u001b[1;32m   1150\u001b[0m     fca_concepts = [concept for concept in fca_concepts\n",
      "\u001b[0;32m/usr/local/anaconda3/lib/python3.8/site-packages/elephant/spade_src/fast_fca.py\u001b[0m in \u001b[0;36mcomputeLattice\u001b[0;34m(self)\u001b[0m\n\u001b[1;32m    256\u001b[0m                                  desc=\"computeLattice\")\n\u001b[1;32m    257\u001b[0m         \u001b[0;32mwhile\u001b[0m \u001b[0mcurConceptIndex\u001b[0m \u001b[0;34m>=\u001b[0m \u001b[0;36m0\u001b[0m\u001b[0;34m:\u001b[0m\u001b[0;34m\u001b[0m\u001b[0;34m\u001b[0m\u001b[0m\n\u001b[0;32m--> 258\u001b[0;31m             \u001b[0mupperNeighbours\u001b[0m \u001b[0;34m=\u001b[0m \u001b[0mself\u001b[0m\u001b[0;34m.\u001b[0m\u001b[0mcomputeUpperNeighbours\u001b[0m\u001b[0;34m(\u001b[0m\u001b[0mcurConcept\u001b[0m\u001b[0;34m)\u001b[0m\u001b[0;34m\u001b[0m\u001b[0;34m\u001b[0m\u001b[0m\n\u001b[0m\u001b[1;32m    259\u001b[0m             \u001b[0;32mfor\u001b[0m \u001b[0mupperNeighbour\u001b[0m \u001b[0;32min\u001b[0m \u001b[0mupperNeighbours\u001b[0m\u001b[0;34m:\u001b[0m\u001b[0;34m\u001b[0m\u001b[0;34m\u001b[0m\u001b[0m\n\u001b[1;32m    260\u001b[0m                 upperNeighbourIndex = bisect.bisect(self.concepts,\n",
      "\u001b[0;32m/usr/local/anaconda3/lib/python3.8/site-packages/elephant/spade_src/fast_fca.py\u001b[0m in \u001b[0;36mcomputeUpperNeighbours\u001b[0;34m(self, concept)\u001b[0m\n\u001b[1;32m    206\u001b[0m             \u001b[0;31m# with concept.intent,\u001b[0m\u001b[0;34m\u001b[0m\u001b[0;34m\u001b[0m\u001b[0;34m\u001b[0m\u001b[0m\n\u001b[1;32m    207\u001b[0m             \u001b[0;31m# where i(g) is the set of all attributes of g.\u001b[0m\u001b[0;34m\u001b[0m\u001b[0;34m\u001b[0m\u001b[0;34m\u001b[0m\u001b[0m\n\u001b[0;32m--> 208\u001b[0;31m             \u001b[0mintent\u001b[0m \u001b[0;34m=\u001b[0m \u001b[0mself\u001b[0m\u001b[0;34m.\u001b[0m\u001b[0mcontext\u001b[0m\u001b[0;34m.\u001b[0m\u001b[0mupdateIntent\u001b[0m\u001b[0;34m(\u001b[0m\u001b[0mconcept\u001b[0m\u001b[0;34m.\u001b[0m\u001b[0mintent\u001b[0m\u001b[0;34m,\u001b[0m \u001b[0mg\u001b[0m\u001b[0;34m)\u001b[0m\u001b[0;34m\u001b[0m\u001b[0;34m\u001b[0m\u001b[0m\n\u001b[0m\u001b[1;32m    209\u001b[0m             \u001b[0;31m# self.intentToConceptDict is a dictionary of all concepts computed\u001b[0m\u001b[0;34m\u001b[0m\u001b[0;34m\u001b[0m\u001b[0;34m\u001b[0m\u001b[0m\n\u001b[1;32m    210\u001b[0m             \u001b[0;31m# so far.\u001b[0m\u001b[0;34m\u001b[0m\u001b[0;34m\u001b[0m\u001b[0;34m\u001b[0m\u001b[0m\n",
      "\u001b[0;32m/usr/local/anaconda3/lib/python3.8/site-packages/elephant/spade_src/fast_fca.py\u001b[0m in \u001b[0;36mupdateIntent\u001b[0;34m(self, intent, object)\u001b[0m\n\u001b[1;32m    167\u001b[0m     \u001b[0;32mdef\u001b[0m \u001b[0mupdateIntent\u001b[0m\u001b[0;34m(\u001b[0m\u001b[0mself\u001b[0m\u001b[0;34m,\u001b[0m \u001b[0mintent\u001b[0m\u001b[0;34m,\u001b[0m \u001b[0mobject\u001b[0m\u001b[0;34m)\u001b[0m\u001b[0;34m:\u001b[0m\u001b[0;34m\u001b[0m\u001b[0;34m\u001b[0m\u001b[0m\n\u001b[1;32m    168\u001b[0m         \u001b[0;34m\"\"\"return intersection of intent and all attributes of object.\"\"\"\u001b[0m\u001b[0;34m\u001b[0m\u001b[0;34m\u001b[0m\u001b[0m\n\u001b[0;32m--> 169\u001b[0;31m         \u001b[0;32mreturn\u001b[0m \u001b[0mfrozenset\u001b[0m\u001b[0;34m(\u001b[0m\u001b[0mintent\u001b[0m\u001b[0;34m.\u001b[0m\u001b[0mintersection\u001b[0m\u001b[0;34m(\u001b[0m\u001b[0mself\u001b[0m\u001b[0;34m.\u001b[0m\u001b[0mobjectsToAttributes\u001b[0m\u001b[0;34m[\u001b[0m\u001b[0mobject\u001b[0m\u001b[0;34m]\u001b[0m\u001b[0;34m)\u001b[0m\u001b[0;34m)\u001b[0m\u001b[0;34m\u001b[0m\u001b[0;34m\u001b[0m\u001b[0m\n\u001b[0m\u001b[1;32m    170\u001b[0m \u001b[0;34m\u001b[0m\u001b[0m\n\u001b[1;32m    171\u001b[0m     \u001b[0;32mdef\u001b[0m \u001b[0mindexList\u001b[0m\u001b[0;34m(\u001b[0m\u001b[0mself\u001b[0m\u001b[0;34m,\u001b[0m \u001b[0mattributeSet\u001b[0m\u001b[0;34m)\u001b[0m\u001b[0;34m:\u001b[0m\u001b[0;34m\u001b[0m\u001b[0;34m\u001b[0m\u001b[0m\n",
      "\u001b[0;31mKeyboardInterrupt\u001b[0m: "
     ]
    }
   ],
   "source": [
    "patterns = elephant.spade.spade(\n",
    "    spiketrains=spiketrains, binsize=1*pq.ms, winlen=1, min_spikes=3,\n",
    "    n_surr=100,dither=5*pq.ms,\n",
    "    psr_param=[0,0,0],\n",
    "    output_format='patterns')['patterns']"
   ]
  },
  {
   "cell_type": "code",
   "execution_count": null,
   "id": "b629cfc8-605b-45c8-baa0-a991ec0ad23b",
   "metadata": {},
   "outputs": [],
   "source": [
    "patterns"
   ]
  },
  {
   "cell_type": "code",
   "execution_count": null,
   "id": "9db6dc55-3e48-4353-814a-b4aabfa07678",
   "metadata": {},
   "outputs": [],
   "source": [
    "viziphant.patterns.plot_patterns(spiketrains, patterns)"
   ]
  },
  {
   "cell_type": "code",
   "execution_count": null,
   "id": "4dc0dff6-aaae-4075-aede-83597b4b9bf4",
   "metadata": {},
   "outputs": [],
   "source": []
  }
 ],
 "metadata": {
  "kernelspec": {
   "display_name": "Python 3 (ipykernel)",
   "language": "python",
   "name": "python3"
  },
  "language_info": {
   "codemirror_mode": {
    "name": "ipython",
    "version": 3
   },
   "file_extension": ".py",
   "mimetype": "text/x-python",
   "name": "python",
   "nbconvert_exporter": "python",
   "pygments_lexer": "ipython3",
   "version": "3.8.5"
  }
 },
 "nbformat": 4,
 "nbformat_minor": 5
}
