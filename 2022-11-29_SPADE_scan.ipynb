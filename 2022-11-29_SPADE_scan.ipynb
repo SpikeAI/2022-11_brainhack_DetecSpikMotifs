{
 "cells": [
  {
   "cell_type": "code",
   "execution_count": null,
   "id": "1e6ede3a-e8c0-4753-8bde-c5ac49d2d276",
   "metadata": {},
   "outputs": [],
   "source": [
    "# !python3 -m pip install --user neo elephant viziphant"
   ]
  },
  {
   "cell_type": "markdown",
   "id": "4e607479",
   "metadata": {},
   "source": [
    "#  Spike PAtterns DEtection using SPADE\n"
   ]
  },
  {
   "cell_type": "code",
   "execution_count": null,
   "id": "1c0163f5-b685-412d-b5c6-8ff1670e9998",
   "metadata": {},
   "outputs": [],
   "source": [
    "import numpy as np\n",
    "import quantities as pq\n",
    "import neo\n",
    "import elephant\n",
    "import viziphant\n",
    "np.random.seed(4542)"
   ]
  },
  {
   "cell_type": "markdown",
   "id": "5488bfdb",
   "metadata": {},
   "source": [
    "## using the tutorial\n",
    "\n",
    "There are different tutorials such as this one on [ASSET](https://elephant.readthedocs.io/en/latest/tutorials/asset.html) - or this more directly related about [3D SPADE](https://elephant.readthedocs.io/en/latest/tutorials/spade.html) from which we take these first cells..\n",
    "\n",
    "We start by buiding $10$ spike trains with some synchrony\n"
   ]
  },
  {
   "cell_type": "code",
   "execution_count": null,
   "id": "4dc0dff6-aaae-4075-aede-83597b4b9bf4",
   "metadata": {},
   "outputs": [],
   "source": [
    "from elephant.spike_train_generation import compound_poisson_process\n",
    "compound_poisson_process?"
   ]
  },
  {
   "cell_type": "markdown",
   "id": "02fa289d",
   "metadata": {},
   "source": [
    " From the tutorial:\n",
    " \n",
    " > to a distribution A[n] indicating the likelihood of finding synchronous spikes of a given order n. In our example, we construct the distribution such that we have a small probability to produce a synchronous event of order 10 (A[10]==0.02). Otherwise spikes are not synchronous with those of other neurons (i.e., synchronous events of order 1, A[1]==0.98). Notice that the length of the distribution A determines the number len(A)-1 of spiketrains returned by the function, and that A[0] is ignored for reasons of clearer notation."
   ]
  },
  {
   "cell_type": "code",
   "execution_count": null,
   "id": "9db8f573",
   "metadata": {},
   "outputs": [],
   "source": [
    "A = [0]+[0.98]+[0]*8+[0.02]"
   ]
  },
  {
   "cell_type": "code",
   "execution_count": null,
   "id": "c9206ad9-0b99-44ae-b0e2-dbd008fcce03",
   "metadata": {},
   "outputs": [],
   "source": [
    "spiketrains = elephant.spike_train_generation.compound_poisson_process(\n",
    "   rate=5*pq.Hz, A=A, t_stop=10*pq.s)\n",
    "len(spiketrains)"
   ]
  },
  {
   "cell_type": "markdown",
   "id": "701bb4b4",
   "metadata": {},
   "source": [
    "https://viziphant.readthedocs.io/en/latest/\n"
   ]
  },
  {
   "cell_type": "code",
   "execution_count": null,
   "id": "62ff8fad",
   "metadata": {},
   "outputs": [],
   "source": [
    "from viziphant.rasterplot import rasterplot\n",
    "import matplotlib.pyplot as plt\n",
    "fig, ax = plt.subplots(figsize=(10,3))\n",
    "rasterplot(spiketrains, axes=ax)"
   ]
  },
  {
   "cell_type": "code",
   "execution_count": null,
   "id": "6bff7d34",
   "metadata": {},
   "outputs": [],
   "source": [
    "A"
   ]
  },
  {
   "cell_type": "code",
   "execution_count": null,
   "id": "f3c67024",
   "metadata": {},
   "outputs": [],
   "source": [
    "# rasterplot?"
   ]
  },
  {
   "cell_type": "markdown",
   "id": "a72e4c67",
   "metadata": {},
   "source": []
  },
  {
   "cell_type": "code",
   "execution_count": null,
   "id": "fdf73f44-d49f-444c-ad55-e892624b5702",
   "metadata": {},
   "outputs": [],
   "source": [
    "for i in range(90):\n",
    "    spiketrains.append(elephant.spike_train_generation.homogeneous_poisson_process(\n",
    "        rate=5*pq.Hz, t_stop=10*pq.s))"
   ]
  },
  {
   "cell_type": "code",
   "execution_count": null,
   "id": "9e97c566",
   "metadata": {},
   "outputs": [],
   "source": [
    "st = spiketrains[0]\n",
    "st.times"
   ]
  },
  {
   "cell_type": "code",
   "execution_count": null,
   "id": "59482683-e0b6-46fe-be2f-31dad246b199",
   "metadata": {},
   "outputs": [],
   "source": [
    "patterns = elephant.spade.spade(\n",
    "    spiketrains=spiketrains, binsize=1*pq.ms, winlen=1, min_spikes=3,\n",
    "    n_surr=100, dither=5*pq.ms,\n",
    "    psr_param=[0,0,0],\n",
    "    output_format='patterns')['patterns']"
   ]
  },
  {
   "cell_type": "code",
   "execution_count": null,
   "id": "b629cfc8-605b-45c8-baa0-a991ec0ad23b",
   "metadata": {},
   "outputs": [],
   "source": [
    "patterns"
   ]
  },
  {
   "cell_type": "code",
   "execution_count": null,
   "id": "9db6dc55-3e48-4353-814a-b4aabfa07678",
   "metadata": {},
   "outputs": [],
   "source": [
    "viziphant.patterns.plot_patterns(spiketrains, patterns)"
   ]
  },
  {
   "cell_type": "markdown",
   "id": "320647d5",
   "metadata": {},
   "source": [
    "## scanning some parameters\n",
    "\n",
    "the above as one function:"
   ]
  },
  {
   "cell_type": "code",
   "execution_count": null,
   "id": "717a2fc9",
   "metadata": {},
   "outputs": [],
   "source": [
    "A_sync = 0.02\n",
    "shift = 1.0\n",
    "\n",
    "def generate_and_test(A_sync=A_sync, shift=shift):\n",
    "    A = [0]+[1.-A_sync]+[0]*8+[A_sync]\n",
    "    spiketrains = elephant.spike_train_generation.compound_poisson_process(\n",
    "                             rate=5*pq.Hz, A=A, shift=shift*pq.ms, t_stop=10*pq.s)\n",
    "    for i in range(90):\n",
    "        spiketrains.append(elephant.spike_train_generation.homogeneous_poisson_process(\n",
    "            rate=5*pq.Hz, t_stop=10*pq.s))\n",
    "    patterns = elephant.spade.spade(\n",
    "                                spiketrains=spiketrains, binsize=1*pq.ms, winlen=1, min_spikes=3,\n",
    "                                n_surr=100,dither=5*pq.ms,\n",
    "                                psr_param=[0,0,0],\n",
    "                                output_format='patterns')['patterns']\n",
    "    return patterns"
   ]
  },
  {
   "cell_type": "markdown",
   "id": "2a0336ae",
   "metadata": {},
   "source": [
    "\n",
    "* changing the synchrony probability to check when SPADE will begin to fail:\n"
   ]
  },
  {
   "cell_type": "code",
   "execution_count": null,
   "id": "8bc9a171",
   "metadata": {},
   "outputs": [],
   "source": [
    "for A_sync_ in np.logspace(-2, -.5, 10):\n",
    "    patterns = generate_and_test(A_sync=A_sync_)\n",
    "    print(patterns)"
   ]
  },
  {
   "cell_type": "markdown",
   "id": "45ec1ae5",
   "metadata": {},
   "source": [
    "\n",
    "* adding a random shift to check robustness of SPADE:\n"
   ]
  },
  {
   "cell_type": "code",
   "execution_count": null,
   "id": "6b503f5d",
   "metadata": {},
   "outputs": [],
   "source": [
    "for shift_ in np.logspace(-1, 1, 10, base=10, endpoint=True):\n",
    "    patterns = generate_and_test(shift=shift_)\n",
    "    print(patterns)"
   ]
  }
 ],
 "metadata": {
  "kernelspec": {
   "display_name": "Python 3.10.2 ('.venv': pipenv)",
   "language": "python",
   "name": "python3"
  },
  "language_info": {
   "codemirror_mode": {
    "name": "ipython",
    "version": 3
   },
   "file_extension": ".py",
   "mimetype": "text/x-python",
   "name": "python",
   "nbconvert_exporter": "python",
   "pygments_lexer": "ipython3",
   "version": "3.10.2"
  },
  "vscode": {
   "interpreter": {
    "hash": "7360f794e3125d6a5eb19cf63600fd42ae95811821a9d91a078882f6e8b33a41"
   }
  }
 },
 "nbformat": 4,
 "nbformat_minor": 5
}
